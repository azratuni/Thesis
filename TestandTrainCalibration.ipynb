{
 "cells": [
  {
   "cell_type": "code",
   "execution_count": 56,
   "id": "28663e3e",
   "metadata": {},
   "outputs": [],
   "source": [
    "import pandas as pd\n",
    "import numpy as np\n",
    "import matplotlib.pyplot as plt\n",
    "import scikitplot as skplt\n",
    "import yellowbrick as yb\n",
    "\n",
    "from sklearn.preprocessing import LabelEncoder\n",
    "from sklearn.model_selection import train_test_split\n",
    "from sklearn.model_selection import cross_val_score\n",
    "from sklearn.model_selection import GridSearchCV\n",
    "from sklearn.model_selection import TimeSeriesSplit\n",
    "from sklearn.preprocessing import StandardScaler\n",
    "from sklearn.linear_model import LogisticRegression\n",
    "from sklearn.neighbors import KNeighborsClassifier\n",
    "from sklearn.svm import SVC\n",
    "from sklearn.tree import DecisionTreeClassifier\n",
    "from sklearn.ensemble import RandomForestClassifier\n",
    "from sklearn.naive_bayes import GaussianNB\n",
    "from sklearn.ensemble import AdaBoostClassifier\n",
    "from sklearn.ensemble import GradientBoostingClassifier\n",
    "from sklearn.metrics import accuracy_score\n",
    "from sklearn.metrics import confusion_matrix\n",
    "from sklearn.metrics import classification_report as cr\n",
    "from sklearn.metrics import plot_confusion_matrix\n",
    "from sklearn.datasets import make_classification\n",
    "\n",
    "from yellowbrick.datasets import load_occupancy\n",
    "from yellowbrick.classifier import classification_report"
   ]
  },
  {
   "cell_type": "code",
   "execution_count": 57,
   "id": "vl4-xSRdLS35",
   "metadata": {
    "colab": {
     "base_uri": "https://localhost:8080/"
    },
    "id": "vl4-xSRdLS35",
    "outputId": "5034b11c-6bef-43e0-b75d-6bf5f78e875a"
   },
   "outputs": [],
   "source": [
    "#Read the dataset\n",
    "data=pd.read_csv('covid_database.csv')"
   ]
  },
  {
   "cell_type": "code",
   "execution_count": 58,
   "id": "12Q8eaxlQdoF",
   "metadata": {
    "colab": {
     "base_uri": "https://localhost:8080/",
     "height": 237
    },
    "id": "12Q8eaxlQdoF",
    "outputId": "9d02332d-cc68-457b-94bc-ce6fb44f7b7b"
   },
   "outputs": [
    {
     "data": {
      "text/html": [
       "<div>\n",
       "<style scoped>\n",
       "    .dataframe tbody tr th:only-of-type {\n",
       "        vertical-align: middle;\n",
       "    }\n",
       "\n",
       "    .dataframe tbody tr th {\n",
       "        vertical-align: top;\n",
       "    }\n",
       "\n",
       "    .dataframe thead th {\n",
       "        text-align: right;\n",
       "    }\n",
       "</style>\n",
       "<table border=\"1\" class=\"dataframe\">\n",
       "  <thead>\n",
       "    <tr style=\"text-align: right;\">\n",
       "      <th></th>\n",
       "      <th>ID</th>\n",
       "      <th>age_group</th>\n",
       "      <th>Sex</th>\n",
       "      <th>Fever</th>\n",
       "      <th>Cough</th>\n",
       "      <th>Resp_dist</th>\n",
       "      <th>Sore_throat</th>\n",
       "      <th>Chest_pain</th>\n",
       "      <th>Headache</th>\n",
       "      <th>Diarrhea</th>\n",
       "      <th>...</th>\n",
       "      <th>Heart_disease</th>\n",
       "      <th>Cancer</th>\n",
       "      <th>Kidney_problems</th>\n",
       "      <th>Fear_of_reinfection</th>\n",
       "      <th>Hozpitalization</th>\n",
       "      <th>Self_medication</th>\n",
       "      <th>Depression</th>\n",
       "      <th>Sputum_production</th>\n",
       "      <th>Lack_of_appetite</th>\n",
       "      <th>Fatigue</th>\n",
       "    </tr>\n",
       "    <tr>\n",
       "      <th>Persistent_symptoms</th>\n",
       "      <th></th>\n",
       "      <th></th>\n",
       "      <th></th>\n",
       "      <th></th>\n",
       "      <th></th>\n",
       "      <th></th>\n",
       "      <th></th>\n",
       "      <th></th>\n",
       "      <th></th>\n",
       "      <th></th>\n",
       "      <th></th>\n",
       "      <th></th>\n",
       "      <th></th>\n",
       "      <th></th>\n",
       "      <th></th>\n",
       "      <th></th>\n",
       "      <th></th>\n",
       "      <th></th>\n",
       "      <th></th>\n",
       "      <th></th>\n",
       "      <th></th>\n",
       "    </tr>\n",
       "  </thead>\n",
       "  <tbody>\n",
       "    <tr>\n",
       "      <th>0</th>\n",
       "      <td>802</td>\n",
       "      <td>802</td>\n",
       "      <td>802</td>\n",
       "      <td>802</td>\n",
       "      <td>802</td>\n",
       "      <td>802</td>\n",
       "      <td>802</td>\n",
       "      <td>802</td>\n",
       "      <td>802</td>\n",
       "      <td>802</td>\n",
       "      <td>...</td>\n",
       "      <td>802</td>\n",
       "      <td>802</td>\n",
       "      <td>802</td>\n",
       "      <td>802</td>\n",
       "      <td>802</td>\n",
       "      <td>802</td>\n",
       "      <td>802</td>\n",
       "      <td>802</td>\n",
       "      <td>802</td>\n",
       "      <td>802</td>\n",
       "    </tr>\n",
       "    <tr>\n",
       "      <th>1</th>\n",
       "      <td>200</td>\n",
       "      <td>200</td>\n",
       "      <td>200</td>\n",
       "      <td>200</td>\n",
       "      <td>200</td>\n",
       "      <td>200</td>\n",
       "      <td>200</td>\n",
       "      <td>200</td>\n",
       "      <td>200</td>\n",
       "      <td>200</td>\n",
       "      <td>...</td>\n",
       "      <td>200</td>\n",
       "      <td>200</td>\n",
       "      <td>200</td>\n",
       "      <td>200</td>\n",
       "      <td>200</td>\n",
       "      <td>200</td>\n",
       "      <td>200</td>\n",
       "      <td>200</td>\n",
       "      <td>200</td>\n",
       "      <td>200</td>\n",
       "    </tr>\n",
       "  </tbody>\n",
       "</table>\n",
       "<p>2 rows × 27 columns</p>\n",
       "</div>"
      ],
      "text/plain": [
       "                      ID  age_group  Sex  Fever  Cough  Resp_dist  \\\n",
       "Persistent_symptoms                                                 \n",
       "0                    802        802  802    802    802        802   \n",
       "1                    200        200  200    200    200        200   \n",
       "\n",
       "                     Sore_throat  Chest_pain  Headache  Diarrhea  ...  \\\n",
       "Persistent_symptoms                                               ...   \n",
       "0                            802         802       802       802  ...   \n",
       "1                            200         200       200       200  ...   \n",
       "\n",
       "                     Heart_disease  Cancer  Kidney_problems  \\\n",
       "Persistent_symptoms                                           \n",
       "0                              802     802              802   \n",
       "1                              200     200              200   \n",
       "\n",
       "                     Fear_of_reinfection  Hozpitalization  Self_medication  \\\n",
       "Persistent_symptoms                                                          \n",
       "0                                    802              802              802   \n",
       "1                                    200              200              200   \n",
       "\n",
       "                     Depression  Sputum_production  Lack_of_appetite  Fatigue  \n",
       "Persistent_symptoms                                                            \n",
       "0                           802                802               802      802  \n",
       "1                           200                200               200      200  \n",
       "\n",
       "[2 rows x 27 columns]"
      ]
     },
     "execution_count": 58,
     "metadata": {},
     "output_type": "execute_result"
    }
   ],
   "source": [
    "data.groupby('Persistent_symptoms').count()"
   ]
  },
  {
   "cell_type": "code",
   "execution_count": 59,
   "id": "OwQtR01bSEmr",
   "metadata": {
    "colab": {
     "base_uri": "https://localhost:8080/"
    },
    "id": "OwQtR01bSEmr",
    "outputId": "85c7b7fd-a9ae-4ce1-8aa4-1dd2b90b7c68"
   },
   "outputs": [
    {
     "name": "stdout",
     "output_type": "stream",
     "text": [
      "X_train shape: (801, 27)\n",
      "X_test shape: (201, 27)\n",
      "y_train shape: (801,)\n",
      "y_test shape: (201,)\n"
     ]
    }
   ],
   "source": [
    "#Divide the dataset into independent and dependent variables\n",
    "X = data.drop([\"Persistent_symptoms\"], axis=1)\n",
    "y = data['Persistent_symptoms']\n",
    "\n",
    "#y = y.values.ravel()\n",
    "#Split the data into training and testing set\n",
    "X_train, X_test, y_train, y_test = train_test_split(X, y, test_size=0.2, random_state=42, shuffle=True) \n",
    "\n",
    "#Data was splitted as 80% train data and 20% test data.\n",
    "y_train = y_train.values.ravel()\n",
    "y_test = y_test.values.ravel()\n",
    "#y_train = y_train.values.reshape(-1,1)\n",
    "#y_test = y_test.values.reshape(-1,1)\n",
    "\n",
    "print(\"X_train shape:\",X_train.shape)\n",
    "print(\"X_test shape:\",X_test.shape)\n",
    "print(\"y_train shape:\",y_train.shape)\n",
    "print(\"y_test shape:\",y_test.shape)"
   ]
  },
  {
   "cell_type": "code",
   "execution_count": 60,
   "id": "V0Tk-UKbTdB8",
   "metadata": {
    "id": "V0Tk-UKbTdB8"
   },
   "outputs": [],
   "source": [
    "#Feature Scaling\n",
    "sc = StandardScaler()\n",
    "X_train = sc.fit_transform(X_train)\n",
    "X_test = sc.fit_transform(X_test)"
   ]
  },
  {
   "attachments": {},
   "cell_type": "markdown",
   "id": "79384605",
   "metadata": {},
   "source": [
    "LogisticRegression"
   ]
  },
  {
   "cell_type": "code",
   "execution_count": 61,
   "id": "I8WRpbP0TiLc",
   "metadata": {
    "colab": {
     "base_uri": "https://localhost:8080/"
    },
    "id": "I8WRpbP0TiLc",
    "outputId": "860320c8-1454-4fb8-e600-b3ce708c7160"
   },
   "outputs": [],
   "source": [
    "reg = LogisticRegression(random_state = 42)\n",
    "reg_pred = reg.fit(X_train,y_train).predict(X_test)"
   ]
  },
  {
   "attachments": {},
   "cell_type": "markdown",
   "id": "1ff634ce",
   "metadata": {},
   "source": [
    "KNeighborsClassifier"
   ]
  },
  {
   "cell_type": "code",
   "execution_count": 62,
   "id": "4CSWjnJfWEnR",
   "metadata": {
    "colab": {
     "base_uri": "https://localhost:8080/"
    },
    "id": "4CSWjnJfWEnR",
    "outputId": "d4c24b15-70b5-440d-f7e3-7d349de77a09"
   },
   "outputs": [],
   "source": [
    "#KNN\n",
    "knn = KNeighborsClassifier()\n",
    "knn_pred = knn.fit(X_train,y_train).predict(X_test)"
   ]
  },
  {
   "attachments": {},
   "cell_type": "markdown",
   "id": "d9f9bdd7",
   "metadata": {},
   "source": [
    "SVC"
   ]
  },
  {
   "cell_type": "code",
   "execution_count": 63,
   "id": "rNSY1L8DWQRX",
   "metadata": {
    "colab": {
     "base_uri": "https://localhost:8080/"
    },
    "id": "rNSY1L8DWQRX",
    "outputId": "447175e5-73c1-4936-a49f-1a2056036aa6"
   },
   "outputs": [],
   "source": [
    "svc = SVC(random_state = 42)\n",
    "svc_pred = svc.fit(X_train,y_train).predict(X_test)"
   ]
  },
  {
   "attachments": {},
   "cell_type": "markdown",
   "id": "bc37d9f7",
   "metadata": {},
   "source": [
    "Decision Tree Classifier"
   ]
  },
  {
   "cell_type": "code",
   "execution_count": 64,
   "id": "RPV7XQv-WYlZ",
   "metadata": {
    "colab": {
     "base_uri": "https://localhost:8080/"
    },
    "id": "RPV7XQv-WYlZ",
    "outputId": "11ca5ec0-9699-4d83-a137-89c3bc1b43e0"
   },
   "outputs": [],
   "source": [
    "dtc = DecisionTreeClassifier(random_state = 42)\n",
    "dtc_pred = dtc.fit(X_train,y_train).predict(X_test)"
   ]
  },
  {
   "attachments": {},
   "cell_type": "markdown",
   "id": "0f853fbc",
   "metadata": {},
   "source": [
    "RandomForestClassifier"
   ]
  },
  {
   "cell_type": "code",
   "execution_count": 65,
   "id": "s5VevFMbWiVd",
   "metadata": {
    "colab": {
     "base_uri": "https://localhost:8080/"
    },
    "id": "s5VevFMbWiVd",
    "outputId": "f0b195aa-e335-4567-ed8c-4b462b69a09e"
   },
   "outputs": [],
   "source": [
    "rfc = RandomForestClassifier(random_state = 42)\n",
    "rfc_pred = rfc.fit(X_train,y_train).predict(X_test)"
   ]
  },
  {
   "attachments": {},
   "cell_type": "markdown",
   "id": "e7e63733",
   "metadata": {},
   "source": [
    "GaussianNB"
   ]
  },
  {
   "cell_type": "code",
   "execution_count": 66,
   "id": "CXma6iQ5Wr7e",
   "metadata": {
    "colab": {
     "base_uri": "https://localhost:8080/"
    },
    "id": "CXma6iQ5Wr7e",
    "outputId": "9efb55a0-431d-4846-a8f2-e43394220601"
   },
   "outputs": [],
   "source": [
    "gnb = GaussianNB()\n",
    "gnb_pred = gnb.fit(X_train,y_train).predict(X_test)"
   ]
  },
  {
   "attachments": {},
   "cell_type": "markdown",
   "id": "e7e63733",
   "metadata": {},
   "source": [
    "AdaBoost"
   ]
  },
  {
   "cell_type": "code",
   "execution_count": 67,
   "id": "e616d668",
   "metadata": {},
   "outputs": [],
   "source": [
    "abc = AdaBoostClassifier(n_estimators=50, learning_rate=0.1)\n",
    "abc_pred = abc.fit(X_train, y_train).predict(X_test)"
   ]
  },
  {
   "attachments": {},
   "cell_type": "markdown",
   "id": "bf9b0a6f",
   "metadata": {},
   "source": [
    "Gradient Boosting Classification"
   ]
  },
  {
   "cell_type": "code",
   "execution_count": 68,
   "id": "e9a89f40",
   "metadata": {},
   "outputs": [],
   "source": [
    "gradient_booster = GradientBoostingClassifier(learning_rate=0.1)\n",
    "gradient_booster.get_params()\n",
    "gradient_booster_pred = gradient_booster.fit(X_train, y_train).predict(X_test)"
   ]
  },
  {
   "cell_type": "code",
   "execution_count": 69,
   "id": "b_pjpgpdW_hp",
   "metadata": {
    "colab": {
     "base_uri": "https://localhost:8080/",
     "height": 441
    },
    "id": "b_pjpgpdW_hp",
    "outputId": "4e86d52b-d08b-4095-ca7c-28cf62a1c2e2"
   },
   "outputs": [
    {
     "data": {
      "image/png": "[encoded data removed]",
      "text/plain": [
       "<Figure size 432x288 with 1 Axes>"
      ]
     },
     "metadata": {
      "needs_background": "light"
     },
     "output_type": "display_data"
    }
   ],
   "source": [
    "probas_list = [reg_pred, knn_pred, svc_pred, dtc_pred, rfc_pred, gnb_pred, abc_pred, gradient_booster_pred]\n",
    "\n",
    "clf_names = ['Logistic Regression', 'K-Nearest Neighbour', 'Support Vector Machine', 'Decision Tree Classifier', 'Random Forest Classifier', 'Gaussian Naive Bayes', 'AdaBoost Classifier', 'Gradient Booster Classifier']\n",
    "\n",
    "skplt.metrics.plot_calibration_curve(y_test, probas_list, clf_names)\n",
    "\n",
    "plt.show()"
   ]
  }
 ],
 "metadata": {
  "colab": {
   "provenance": []
  },
  "kernelspec": {
   "display_name": "Python 3.10.6 64-bit",
   "language": "python",
   "name": "python3"
  },
  "language_info": {
   "codemirror_mode": {
    "name": "ipython",
    "version": 3
   },
   "file_extension": ".py",
   "mimetype": "text/x-python",
   "name": "python",
   "nbconvert_exporter": "python",
   "pygments_lexer": "ipython3",
   "version": "3.10.8 (tags/v3.10.8:aaaf517, Oct 11 2022, 16:50:30) [MSC v.1933 64 bit (AMD64)]"
  },
  "vscode": {
   "interpreter": {
    "hash": "fb4569285eef3a3450cb62085a5b1e0da4bce0af555edc33dcf29baf3acc1368"
   }
  }
 },
 "nbformat": 4,
 "nbformat_minor": 5
}
