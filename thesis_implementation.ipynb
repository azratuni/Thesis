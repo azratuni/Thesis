{
  "cells": [
    {
      "cell_type": "code",
      "execution_count": null,
      "metadata": {
        "id": "-71UtHzNVWjB"
      },
      "outputs": [],
      "source": [
        "import numpy as np\n",
        "import pandas as pd\n",
        "import seaborn as sns\n",
        "import matplotlib.pyplot as plt\n",
        "from sklearn.preprocessing import StandardScaler\n",
        "from sklearn.model_selection import train_test_split\n",
        "from sklearn.metrics import classification_report, r2_score\n",
        "from sklearn import svm\n",
        "from sklearn.linear_model import LogisticRegression\n",
        "from sklearn.metrics import accuracy_score\n",
        "from sklearn import metrics"
      ]
    },
    {
      "cell_type": "code",
      "execution_count": null,
      "metadata": {
        "id": "8FXbc0stqcS5"
      },
      "outputs": [],
      "source": [
        "covid_data = pd.read_csv('/content/covid_data_neumerical.csv')"
      ]
    },
    {
      "cell_type": "code",
      "execution_count": null,
      "metadata": {
        "id": "oHQU3hkYq9xo"
      },
      "outputs": [],
      "source": [
        "covid_data.head()"
      ]
    },
    {
      "cell_type": "code",
      "execution_count": null,
      "metadata": {
        "colab": {
          "base_uri": "https://localhost:8080/"
        },
        "id": "JNwQAaverzCJ",
        "outputId": "cb832efb-9a8e-4c33-ae1b-a1ad999dd9e5"
      },
      "outputs": [
        {
          "data": {
            "text/plain": [
              "(1002, 28)"
            ]
          },
          "execution_count": 11,
          "metadata": {},
          "output_type": "execute_result"
        }
      ],
      "source": [
        "covid_data.shape"
      ]
    },
    {
      "cell_type": "code",
      "execution_count": null,
      "metadata": {
        "id": "LU-Pzslfr6ck"
      },
      "outputs": [],
      "source": [
        "covid_data.describe()"
      ]
    },
    {
      "cell_type": "code",
      "execution_count": null,
      "metadata": {
        "colab": {
          "base_uri": "https://localhost:8080/"
        },
        "id": "V6XNT0jasWqm",
        "outputId": "8efc02b9-5204-4c8d-bba9-72f8f541bd34"
      },
      "outputs": [
        {
          "name": "stdout",
          "output_type": "stream",
          "text": [
            "                            ID  age_group       Sex     Fever     Cough  \\\n",
            "ID                    1.000000   0.202381  0.028770  0.106134  0.194796   \n",
            "age_group             0.202381   1.000000 -0.009771  0.175281  0.178323   \n",
            "Sex                   0.028770  -0.009771  1.000000  0.019781  0.010675   \n",
            "Fever                 0.106134   0.175281  0.019781  1.000000  0.481682   \n",
            "Cough                 0.194796   0.178323  0.010675  0.481682  1.000000   \n",
            "Resp_dist             0.064918   0.085716 -0.012088  0.065147  0.049034   \n",
            "Sore throat           0.000335   0.168145 -0.051530  0.345786  0.293080   \n",
            "Chest pain            0.086433   0.164810 -0.063791  0.225313  0.258679   \n",
            "Headache              0.067554   0.148257 -0.078807  0.380596  0.337094   \n",
            "Diarrhea              0.016557   0.204578 -0.140848  0.223693  0.142869   \n",
            "Dyspnea               0.051473   0.234431 -0.033729  0.301305  0.330463   \n",
            "Myalgia               0.056381   0.178698 -0.084807  0.277783  0.272220   \n",
            "Sleep disturbance     0.064289   0.051767 -0.023205  0.056947  0.102898   \n",
            "Smoking habits       -0.010477  -0.016536  0.269804 -0.016704 -0.065440   \n",
            "Physical exercise    -0.159720  -0.021978  0.042854 -0.070785 -0.099625   \n",
            "Diabetes              0.063244   0.478016 -0.025461  0.161908  0.202708   \n",
            "Hypertension          0.123678   0.463451  0.074222  0.185342  0.200026   \n",
            "Heart disease        -0.028157   0.236579  0.033440  0.068343  0.097426   \n",
            "Cancer                0.032630   0.139180 -0.051454 -0.018900  0.034245   \n",
            "Kidney problems       0.005152   0.154780 -0.009889  0.020017  0.039012   \n",
            "Fear of re-infection  0.151553   0.103393 -0.063104  0.204832  0.221535   \n",
            "Hozpitalization       0.000681   0.272121 -0.106648  0.165187  0.113662   \n",
            "Self-medication      -0.040629   0.092621 -0.108997  0.068504  0.049791   \n",
            "Persistent symptoms  -0.009133   0.121553 -0.125255  0.107790  0.080357   \n",
            "Depression            0.142095   0.091573 -0.113282  0.120335  0.199303   \n",
            "Sputum production    -0.006058   0.147094 -0.053505  0.230894  0.270995   \n",
            "Lack of appetite      0.044085   0.213886 -0.081071  0.341653  0.300794   \n",
            "Fatigue               0.150968   0.197785 -0.002268  0.498118  0.441621   \n",
            "\n",
            "                      Resp_dist  Sore throat  Chest pain  Headache  Diarrhea  \\\n",
            "ID                     0.064918     0.000335    0.086433  0.067554  0.016557   \n",
            "age_group              0.085716     0.168145    0.164810  0.148257  0.204578   \n",
            "Sex                   -0.012088    -0.051530   -0.063791 -0.078807 -0.140848   \n",
            "Fever                  0.065147     0.345786    0.225313  0.380596  0.223693   \n",
            "Cough                  0.049034     0.293080    0.258679  0.337094  0.142869   \n",
            "Resp_dist              1.000000     0.008721    0.023988  0.132643  0.012989   \n",
            "Sore throat            0.008721     1.000000    0.406585  0.317414  0.240108   \n",
            "Chest pain             0.023988     0.406585    1.000000  0.273112  0.292260   \n",
            "Headache               0.132643     0.317414    0.273112  1.000000  0.215698   \n",
            "Diarrhea               0.012989     0.240108    0.292260  0.215698  1.000000   \n",
            "Dyspnea                0.150645     0.411238    0.437362  0.192056  0.295483   \n",
            "Myalgia                0.073954     0.256364    0.328265  0.428065  0.240549   \n",
            "Sleep disturbance      0.004134    -0.031930    0.039992  0.111794  0.136895   \n",
            "Smoking habits        -0.002111     0.077928   -0.012713 -0.001798 -0.010328   \n",
            "Physical exercise     -0.092026     0.015040   -0.052723 -0.042564  0.044934   \n",
            "Diabetes               0.069135     0.170859    0.190917  0.150540  0.222729   \n",
            "Hypertension           0.183618     0.101865    0.092600  0.176944  0.078630   \n",
            "Heart disease          0.151557     0.132651    0.192057  0.087780  0.111694   \n",
            "Cancer                 0.118266     0.058449    0.052426  0.032016  0.153364   \n",
            "Kidney problems        0.077720     0.120558    0.115006  0.031086  0.142121   \n",
            "Fear of re-infection   0.089701     0.068979    0.088439  0.236128  0.183747   \n",
            "Hozpitalization        0.034268     0.218884    0.280274  0.166623  0.289218   \n",
            "Self-medication        0.002212     0.133910    0.100328  0.088390  0.178413   \n",
            "Persistent symptoms    0.012048     0.192989    0.288242  0.112548  0.311303   \n",
            "Depression             0.157454     0.009666    0.090509  0.236620  0.155573   \n",
            "Sputum production      0.128518     0.362177    0.377575  0.293636  0.257758   \n",
            "Lack of appetite       0.142092     0.294429    0.237258  0.329356  0.237244   \n",
            "Fatigue                0.107361     0.296975    0.235860  0.435388  0.165106   \n",
            "\n",
            "                      ...    Cancer  Kidney problems  Fear of re-infection  \\\n",
            "ID                    ...  0.032630         0.005152              0.151553   \n",
            "age_group             ...  0.139180         0.154780              0.103393   \n",
            "Sex                   ... -0.051454        -0.009889             -0.063104   \n",
            "Fever                 ... -0.018900         0.020017              0.204832   \n",
            "Cough                 ...  0.034245         0.039012              0.221535   \n",
            "Resp_dist             ...  0.118266         0.077720              0.089701   \n",
            "Sore throat           ...  0.058449         0.120558              0.068979   \n",
            "Chest pain            ...  0.052426         0.115006              0.088439   \n",
            "Headache              ...  0.032016         0.031086              0.236128   \n",
            "Diarrhea              ...  0.153364         0.142121              0.183747   \n",
            "Dyspnea               ...  0.053798         0.099528              0.144540   \n",
            "Myalgia               ...  0.060428         0.076677              0.205993   \n",
            "Sleep disturbance     ...  0.032315         0.018711              0.205369   \n",
            "Smoking habits        ...  0.040853         0.022705              0.011245   \n",
            "Physical exercise     ... -0.009941         0.014867             -0.088161   \n",
            "Diabetes              ...  0.191245         0.213951              0.174926   \n",
            "Hypertension          ...  0.091167         0.140665              0.127516   \n",
            "Heart disease         ...  0.238973         0.219182              0.019017   \n",
            "Cancer                ...  1.000000         0.432184              0.039618   \n",
            "Kidney problems       ...  0.432184         1.000000              0.034757   \n",
            "Fear of re-infection  ...  0.039618         0.034757              1.000000   \n",
            "Hozpitalization       ...  0.145131         0.112397              0.175256   \n",
            "Self-medication       ...  0.140357         0.116393              0.063121   \n",
            "Persistent symptoms   ...  0.134064         0.087225              0.265754   \n",
            "Depression            ...  0.097391         0.013735              0.299271   \n",
            "Sputum production     ...  0.099244         0.065005              0.078148   \n",
            "Lack of appetite      ...  0.055800         0.095528              0.204763   \n",
            "Fatigue               ... -0.004621         0.004050              0.253974   \n",
            "\n",
            "                      Hozpitalization  Self-medication  Persistent symptoms  \\\n",
            "ID                           0.000681        -0.040629            -0.009133   \n",
            "age_group                    0.272121         0.092621             0.121553   \n",
            "Sex                         -0.106648        -0.108997            -0.125255   \n",
            "Fever                        0.165187         0.068504             0.107790   \n",
            "Cough                        0.113662         0.049791             0.080357   \n",
            "Resp_dist                    0.034268         0.002212             0.012048   \n",
            "Sore throat                  0.218884         0.133910             0.192989   \n",
            "Chest pain                   0.280274         0.100328             0.288242   \n",
            "Headache                     0.166623         0.088390             0.112548   \n",
            "Diarrhea                     0.289218         0.178413             0.311303   \n",
            "Dyspnea                      0.323972         0.121992             0.249221   \n",
            "Myalgia                      0.174439         0.066683             0.215970   \n",
            "Sleep disturbance            0.135140         0.003205             0.192989   \n",
            "Smoking habits               0.003502        -0.012126             0.011026   \n",
            "Physical exercise            0.000460        -0.033206             0.012876   \n",
            "Diabetes                     0.260721         0.114609             0.183011   \n",
            "Hypertension                 0.087185        -0.033118            -0.004048   \n",
            "Heart disease                0.107525         0.095236             0.087743   \n",
            "Cancer                       0.145131         0.140357             0.134064   \n",
            "Kidney problems              0.112397         0.116393             0.087225   \n",
            "Fear of re-infection         0.175256         0.063121             0.265754   \n",
            "Hozpitalization              1.000000         0.148126             0.396980   \n",
            "Self-medication              0.148126         1.000000             0.214080   \n",
            "Persistent symptoms          0.396980         0.214080             1.000000   \n",
            "Depression                   0.147473         0.100753             0.223844   \n",
            "Sputum production            0.227073         0.160212             0.200756   \n",
            "Lack of appetite             0.167385         0.085477             0.152633   \n",
            "Fatigue                      0.109335         0.007196             0.092964   \n",
            "\n",
            "                      Depression  Sputum production  Lack of appetite  \\\n",
            "ID                      0.142095          -0.006058          0.044085   \n",
            "age_group               0.091573           0.147094          0.213886   \n",
            "Sex                    -0.113282          -0.053505         -0.081071   \n",
            "Fever                   0.120335           0.230894          0.341653   \n",
            "Cough                   0.199303           0.270995          0.300794   \n",
            "Resp_dist               0.157454           0.128518          0.142092   \n",
            "Sore throat             0.009666           0.362177          0.294429   \n",
            "Chest pain              0.090509           0.377575          0.237258   \n",
            "Headache                0.236620           0.293636          0.329356   \n",
            "Diarrhea                0.155573           0.257758          0.237244   \n",
            "Dyspnea                 0.094764           0.321777          0.273897   \n",
            "Myalgia                 0.190041           0.277039          0.369496   \n",
            "Sleep disturbance       0.221599           0.068320          0.043938   \n",
            "Smoking habits          0.011153           0.024981          0.014859   \n",
            "Physical exercise      -0.143535          -0.077771         -0.049999   \n",
            "Diabetes                0.164124           0.119902          0.182734   \n",
            "Hypertension            0.130445           0.074762          0.154629   \n",
            "Heart disease           0.106060           0.129019          0.146836   \n",
            "Cancer                  0.097391           0.099244          0.055800   \n",
            "Kidney problems         0.013735           0.065005          0.095528   \n",
            "Fear of re-infection    0.299271           0.078148          0.204763   \n",
            "Hozpitalization         0.147473           0.227073          0.167385   \n",
            "Self-medication         0.100753           0.160212          0.085477   \n",
            "Persistent symptoms     0.223844           0.200756          0.152633   \n",
            "Depression              1.000000           0.114519          0.191471   \n",
            "Sputum production       0.114519           1.000000          0.342314   \n",
            "Lack of appetite        0.191471           0.342314          1.000000   \n",
            "Fatigue                 0.228204           0.236962          0.473229   \n",
            "\n",
            "                       Fatigue  \n",
            "ID                    0.150968  \n",
            "age_group             0.197785  \n",
            "Sex                  -0.002268  \n",
            "Fever                 0.498118  \n",
            "Cough                 0.441621  \n",
            "Resp_dist             0.107361  \n",
            "Sore throat           0.296975  \n",
            "Chest pain            0.235860  \n",
            "Headache              0.435388  \n",
            "Diarrhea              0.165106  \n",
            "Dyspnea               0.309874  \n",
            "Myalgia               0.371264  \n",
            "Sleep disturbance     0.069650  \n",
            "Smoking habits       -0.059379  \n",
            "Physical exercise    -0.076072  \n",
            "Diabetes              0.146088  \n",
            "Hypertension          0.212956  \n",
            "Heart disease         0.079864  \n",
            "Cancer               -0.004621  \n",
            "Kidney problems       0.004050  \n",
            "Fear of re-infection  0.253974  \n",
            "Hozpitalization       0.109335  \n",
            "Self-medication       0.007196  \n",
            "Persistent symptoms   0.092964  \n",
            "Depression            0.228204  \n",
            "Sputum production     0.236962  \n",
            "Lack of appetite      0.473229  \n",
            "Fatigue               1.000000  \n",
            "\n",
            "[28 rows x 28 columns]\n"
          ]
        }
      ],
      "source": [
        "correlation = covid_data.corr()\n",
        "print(correlation)"
      ]
    },
    {
      "cell_type": "code",
      "execution_count": null,
      "metadata": {
        "colab": {
          "base_uri": "https://localhost:8080/",
          "height": 371
        },
        "id": "cVXVv0TSskS_",
        "outputId": "4caa341b-acf6-4a2e-dc1f-e95fa8e5df75"
      },
      "outputs": [
        {
          "data": {
            "text/plain": [
              "<matplotlib.axes._subplots.AxesSubplot at 0x7f1f95af3c90>"
            ]
          },
          "execution_count": 13,
          "metadata": {},
          "output_type": "execute_result"
        },
        {
          "data": {
            "image/png": "[encoded data removed]",
            "text/plain": [
              "<Figure size 432x288 with 2 Axes>"
            ]
          },
          "metadata": {
            "needs_background": "light"
          },
          "output_type": "display_data"
        }
      ],
      "source": [
        "sns.heatmap(correlation)"
      ]
    },
    {
      "cell_type": "code",
      "execution_count": null,
      "metadata": {
        "colab": {
          "base_uri": "https://localhost:8080/"
        },
        "id": "sMAsckHWs2H0",
        "outputId": "9e4c16a5-7df1-4030-b6bc-c9b724c43374"
      },
      "outputs": [
        {
          "data": {
            "text/plain": [
              "0    802\n",
              "1    200\n",
              "Name: Persistent symptoms, dtype: int64"
            ]
          },
          "execution_count": 7,
          "metadata": {},
          "output_type": "execute_result"
        }
      ],
      "source": [
        "covid_data['Persistent symptoms'].value_counts()"
      ]
    },
    {
      "cell_type": "markdown",
      "metadata": {
        "id": "6Hsq5MjhuCh9"
      },
      "source": [
        "0  = No Persistent Symtoms\n",
        "\n",
        "1 = They have Persistent Symtoms\n"
      ]
    },
    {
      "cell_type": "code",
      "execution_count": null,
      "metadata": {
        "colab": {
          "base_uri": "https://localhost:8080/",
          "height": 252
        },
        "id": "YQTKJHquuRwh",
        "outputId": "202410bc-484a-48d6-cbb5-ef3d1c5a4a7c"
      },
      "outputs": [
        {
          "data": {
            "text/html": [
              "\n",
              "  <div id=\"df-bc414aff-b670-4d99-a517-103ce3bc6aae\">\n",
              "    <div class=\"colab-df-container\">\n",
              "      <div>\n",
              "<style scoped>\n",
              "    .dataframe tbody tr th:only-of-type {\n",
              "        vertical-align: middle;\n",
              "    }\n",
              "\n",
              "    .dataframe tbody tr th {\n",
              "        vertical-align: top;\n",
              "    }\n",
              "\n",
              "    .dataframe thead th {\n",
              "        text-align: right;\n",
              "    }\n",
              "</style>\n",
              "<table border=\"1\" class=\"dataframe\">\n",
              "  <thead>\n",
              "    <tr style=\"text-align: right;\">\n",
              "      <th></th>\n",
              "      <th>ID</th>\n",
              "      <th>age_group</th>\n",
              "      <th>Sex</th>\n",
              "      <th>Fever</th>\n",
              "      <th>Cough</th>\n",
              "      <th>Resp_dist</th>\n",
              "      <th>Sore throat</th>\n",
              "      <th>Chest pain</th>\n",
              "      <th>Headache</th>\n",
              "      <th>Diarrhea</th>\n",
              "      <th>...</th>\n",
              "      <th>Heart disease</th>\n",
              "      <th>Cancer</th>\n",
              "      <th>Kidney problems</th>\n",
              "      <th>Fear of re-infection</th>\n",
              "      <th>Hozpitalization</th>\n",
              "      <th>Self-medication</th>\n",
              "      <th>Depression</th>\n",
              "      <th>Sputum production</th>\n",
              "      <th>Lack of appetite</th>\n",
              "      <th>Fatigue</th>\n",
              "    </tr>\n",
              "    <tr>\n",
              "      <th>Persistent symptoms</th>\n",
              "      <th></th>\n",
              "      <th></th>\n",
              "      <th></th>\n",
              "      <th></th>\n",
              "      <th></th>\n",
              "      <th></th>\n",
              "      <th></th>\n",
              "      <th></th>\n",
              "      <th></th>\n",
              "      <th></th>\n",
              "      <th></th>\n",
              "      <th></th>\n",
              "      <th></th>\n",
              "      <th></th>\n",
              "      <th></th>\n",
              "      <th></th>\n",
              "      <th></th>\n",
              "      <th></th>\n",
              "      <th></th>\n",
              "      <th></th>\n",
              "      <th></th>\n",
              "    </tr>\n",
              "  </thead>\n",
              "  <tbody>\n",
              "    <tr>\n",
              "      <th>0</th>\n",
              "      <td>502.819202</td>\n",
              "      <td>1.475062</td>\n",
              "      <td>0.609726</td>\n",
              "      <td>0.776808</td>\n",
              "      <td>0.67207</td>\n",
              "      <td>0.25187</td>\n",
              "      <td>0.473815</td>\n",
              "      <td>0.273067</td>\n",
              "      <td>0.625935</td>\n",
              "      <td>0.203242</td>\n",
              "      <td>...</td>\n",
              "      <td>0.069825</td>\n",
              "      <td>0.013716</td>\n",
              "      <td>0.048628</td>\n",
              "      <td>0.563591</td>\n",
              "      <td>0.127182</td>\n",
              "      <td>0.195761</td>\n",
              "      <td>0.425187</td>\n",
              "      <td>0.349127</td>\n",
              "      <td>0.53616</td>\n",
              "      <td>0.700748</td>\n",
              "    </tr>\n",
              "    <tr>\n",
              "      <th>1</th>\n",
              "      <td>496.210000</td>\n",
              "      <td>1.710000</td>\n",
              "      <td>0.455000</td>\n",
              "      <td>0.885000</td>\n",
              "      <td>0.76500</td>\n",
              "      <td>0.26500</td>\n",
              "      <td>0.715000</td>\n",
              "      <td>0.615000</td>\n",
              "      <td>0.760000</td>\n",
              "      <td>0.550000</td>\n",
              "      <td>...</td>\n",
              "      <td>0.130000</td>\n",
              "      <td>0.065000</td>\n",
              "      <td>0.100000</td>\n",
              "      <td>0.885000</td>\n",
              "      <td>0.530000</td>\n",
              "      <td>0.425000</td>\n",
              "      <td>0.705000</td>\n",
              "      <td>0.595000</td>\n",
              "      <td>0.72500</td>\n",
              "      <td>0.805000</td>\n",
              "    </tr>\n",
              "  </tbody>\n",
              "</table>\n",
              "<p>2 rows × 27 columns</p>\n",
              "</div>\n",
              "      <button class=\"colab-df-convert\" onclick=\"convertToInteractive('df-bc414aff-b670-4d99-a517-103ce3bc6aae')\"\n",
              "              title=\"Convert this dataframe to an interactive table.\"\n",
              "              style=\"display:none;\">\n",
              "        \n",
              "  <svg xmlns=\"http://www.w3.org/2000/svg\" height=\"24px\"viewBox=\"0 0 24 24\"\n",
              "       width=\"24px\">\n",
              "    <path d=\"M0 0h24v24H0V0z\" fill=\"none\"/>\n",
              "    <path d=\"M18.56 5.44l.94 2.06.94-2.06 2.06-.94-2.06-.94-.94-2.06-.94 2.06-2.06.94zm-11 1L8.5 8.5l.94-2.06 2.06-.94-2.06-.94L8.5 2.5l-.94 2.06-2.06.94zm10 10l.94 2.06.94-2.06 2.06-.94-2.06-.94-.94-2.06-.94 2.06-2.06.94z\"/><path d=\"M17.41 7.96l-1.37-1.37c-.4-.4-.92-.59-1.43-.59-.52 0-1.04.2-1.43.59L10.3 9.45l-7.72 7.72c-.78.78-.78 2.05 0 2.83L4 21.41c.39.39.9.59 1.41.59.51 0 1.02-.2 1.41-.59l7.78-7.78 2.81-2.81c.8-.78.8-2.07 0-2.86zM5.41 20L4 18.59l7.72-7.72 1.47 1.35L5.41 20z\"/>\n",
              "  </svg>\n",
              "      </button>\n",
              "      \n",
              "  <style>\n",
              "    .colab-df-container {\n",
              "      display:flex;\n",
              "      flex-wrap:wrap;\n",
              "      gap: 12px;\n",
              "    }\n",
              "\n",
              "    .colab-df-convert {\n",
              "      background-color: #E8F0FE;\n",
              "      border: none;\n",
              "      border-radius: 50%;\n",
              "      cursor: pointer;\n",
              "      display: none;\n",
              "      fill: #1967D2;\n",
              "      height: 32px;\n",
              "      padding: 0 0 0 0;\n",
              "      width: 32px;\n",
              "    }\n",
              "\n",
              "    .colab-df-convert:hover {\n",
              "      background-color: #E2EBFA;\n",
              "      box-shadow: 0px 1px 2px rgba(60, 64, 67, 0.3), 0px 1px 3px 1px rgba(60, 64, 67, 0.15);\n",
              "      fill: #174EA6;\n",
              "    }\n",
              "\n",
              "    [theme=dark] .colab-df-convert {\n",
              "      background-color: #3B4455;\n",
              "      fill: #D2E3FC;\n",
              "    }\n",
              "\n",
              "    [theme=dark] .colab-df-convert:hover {\n",
              "      background-color: #434B5C;\n",
              "      box-shadow: 0px 1px 3px 1px rgba(0, 0, 0, 0.15);\n",
              "      filter: drop-shadow(0px 1px 2px rgba(0, 0, 0, 0.3));\n",
              "      fill: #FFFFFF;\n",
              "    }\n",
              "  </style>\n",
              "\n",
              "      <script>\n",
              "        const buttonEl =\n",
              "          document.querySelector('#df-bc414aff-b670-4d99-a517-103ce3bc6aae button.colab-df-convert');\n",
              "        buttonEl.style.display =\n",
              "          google.colab.kernel.accessAllowed ? 'block' : 'none';\n",
              "\n",
              "        async function convertToInteractive(key) {\n",
              "          const element = document.querySelector('#df-bc414aff-b670-4d99-a517-103ce3bc6aae');\n",
              "          const dataTable =\n",
              "            await google.colab.kernel.invokeFunction('convertToInteractive',\n",
              "                                                     [key], {});\n",
              "          if (!dataTable) return;\n",
              "\n",
              "          const docLinkHtml = 'Like what you see? Visit the ' +\n",
              "            '<a target=\"_blank\" href=https://colab.research.google.com/notebooks/data_table.ipynb>data table notebook</a>'\n",
              "            + ' to learn more about interactive tables.';\n",
              "          element.innerHTML = '';\n",
              "          dataTable['output_type'] = 'display_data';\n",
              "          await google.colab.output.renderOutput(dataTable, element);\n",
              "          const docLink = document.createElement('div');\n",
              "          docLink.innerHTML = docLinkHtml;\n",
              "          element.appendChild(docLink);\n",
              "        }\n",
              "      </script>\n",
              "    </div>\n",
              "  </div>\n",
              "  "
            ],
            "text/plain": [
              "                             ID  age_group       Sex     Fever    Cough  \\\n",
              "Persistent symptoms                                                       \n",
              "0                    502.819202   1.475062  0.609726  0.776808  0.67207   \n",
              "1                    496.210000   1.710000  0.455000  0.885000  0.76500   \n",
              "\n",
              "                     Resp_dist  Sore throat  Chest pain  Headache  Diarrhea  \\\n",
              "Persistent symptoms                                                           \n",
              "0                      0.25187     0.473815    0.273067  0.625935  0.203242   \n",
              "1                      0.26500     0.715000    0.615000  0.760000  0.550000   \n",
              "\n",
              "                     ...  Heart disease    Cancer  Kidney problems  \\\n",
              "Persistent symptoms  ...                                             \n",
              "0                    ...       0.069825  0.013716         0.048628   \n",
              "1                    ...       0.130000  0.065000         0.100000   \n",
              "\n",
              "                     Fear of re-infection  Hozpitalization  Self-medication  \\\n",
              "Persistent symptoms                                                           \n",
              "0                                0.563591         0.127182         0.195761   \n",
              "1                                0.885000         0.530000         0.425000   \n",
              "\n",
              "                     Depression  Sputum production  Lack of appetite   Fatigue  \n",
              "Persistent symptoms                                                             \n",
              "0                      0.425187           0.349127           0.53616  0.700748  \n",
              "1                      0.705000           0.595000           0.72500  0.805000  \n",
              "\n",
              "[2 rows x 27 columns]"
            ]
          },
          "execution_count": 14,
          "metadata": {},
          "output_type": "execute_result"
        }
      ],
      "source": [
        "covid_data.groupby('Persistent symptoms').mean()"
      ]
    },
    {
      "cell_type": "code",
      "execution_count": null,
      "metadata": {
        "colab": {
          "base_uri": "https://localhost:8080/"
        },
        "id": "nUQS1vBdu3Ar",
        "outputId": "a0389ad8-bddd-4ed2-e072-5c85e747adfc"
      },
      "outputs": [
        {
          "name": "stdout",
          "output_type": "stream",
          "text": [
            "        ID  age_group  Sex  Fever  Cough  Resp_dist  Sore throat  Chest pain  \\\n",
            "0        1          1    1      1      0          0            1           1   \n",
            "1        2          1    1      1      0          0            0           0   \n",
            "2        3          1    1      1      0          0            0           0   \n",
            "3        4          1    0      1      1          0            1           1   \n",
            "4        5          1    0      1      1          1            1           0   \n",
            "...    ...        ...  ...    ...    ...        ...          ...         ...   \n",
            "997    998          1    1      0      0          0            0           0   \n",
            "998    999          1    1      1      0          0            0           0   \n",
            "999   1000          1    0      1      1          0            1           0   \n",
            "1000  1001          1    1      1      1          0            0           0   \n",
            "1001  1002          1    1      1      1          0            1           0   \n",
            "\n",
            "      Headache  Diarrhea  ...  Heart disease  Cancer  Kidney problems  \\\n",
            "0            1         0  ...              0       0                0   \n",
            "1            0         0  ...              0       0                0   \n",
            "2            0         0  ...              0       0                0   \n",
            "3            1         0  ...              0       0                0   \n",
            "4            1         0  ...              0       0                0   \n",
            "...        ...       ...  ...            ...     ...              ...   \n",
            "997          0         0  ...              0       0                0   \n",
            "998          0         0  ...              0       0                0   \n",
            "999          1         0  ...              0       0                0   \n",
            "1000         0         1  ...              0       0                0   \n",
            "1001         0         1  ...              0       0                0   \n",
            "\n",
            "      Fear of re-infection  Hozpitalization  Self-medication  Depression  \\\n",
            "0                        0                0                0           0   \n",
            "1                        0                0                0           1   \n",
            "2                        0                0                0           0   \n",
            "3                        0                1                0           1   \n",
            "4                        0                0                1           0   \n",
            "...                    ...              ...              ...         ...   \n",
            "997                      0                0                0           0   \n",
            "998                      0                0                0           0   \n",
            "999                      1                0                0           0   \n",
            "1000                     1                0                1           0   \n",
            "1001                     1                0                0           0   \n",
            "\n",
            "      Sputum production  Lack of appetite  Fatigue  \n",
            "0                     1                 0        0  \n",
            "1                     0                 0        0  \n",
            "2                     0                 1        0  \n",
            "3                     0                 1        1  \n",
            "4                     1                 0        1  \n",
            "...                 ...               ...      ...  \n",
            "997                   0                 0        0  \n",
            "998                   0                 1        1  \n",
            "999                   1                 1        1  \n",
            "1000                  1                 1        0  \n",
            "1001                  1                 0        0  \n",
            "\n",
            "[1002 rows x 27 columns]\n"
          ]
        }
      ],
      "source": [
        "# separating the data and labels\n",
        "X = covid_data.drop(columns = 'Persistent symptoms', axis=1)\n",
        "Y = covid_data['Persistent symptoms']\n",
        "\n",
        "print(X)"
      ]
    },
    {
      "cell_type": "code",
      "execution_count": null,
      "metadata": {
        "colab": {
          "base_uri": "https://localhost:8080/"
        },
        "id": "dlsj9sO4wwvx",
        "outputId": "37200c6b-beae-47f1-cb76-7e720f82d1d8"
      },
      "outputs": [
        {
          "name": "stdout",
          "output_type": "stream",
          "text": [
            "0       1\n",
            "1       0\n",
            "2       1\n",
            "3       0\n",
            "4       0\n",
            "       ..\n",
            "997     0\n",
            "998     0\n",
            "999     0\n",
            "1000    1\n",
            "1001    0\n",
            "Name: Persistent symptoms, Length: 1002, dtype: int64\n"
          ]
        }
      ],
      "source": [
        "print(Y)"
      ]
    },
    {
      "cell_type": "markdown",
      "metadata": {
        "id": "umAbo_kqrlzI"
      },
      "source": [
        "Data Standardization"
      ]
    },
    {
      "cell_type": "code",
      "execution_count": null,
      "metadata": {
        "colab": {
          "base_uri": "https://localhost:8080/"
        },
        "id": "mXabrFxuw_Y4",
        "outputId": "478745b7-83b6-4e5e-af40-d3110adc14ba"
      },
      "outputs": [
        {
          "name": "stdout",
          "output_type": "stream",
          "text": [
            "[[-1.73032308 -0.67563334  0.85298664 ...  1.22934055 -1.16043277\n",
            "  -1.60978193]\n",
            " [-1.72686589 -0.67563334  0.85298664 ... -0.81344425 -1.16043277\n",
            "  -1.60978193]\n",
            " [-1.7234087  -0.67563334  0.85298664 ... -0.81344425  0.86174747\n",
            "  -1.60978193]\n",
            " ...\n",
            " [ 1.7234087  -0.67563334 -1.17235131 ...  1.22934055  0.86174747\n",
            "   0.62120215]\n",
            " [ 1.72686589 -0.67563334  0.85298664 ...  1.22934055  0.86174747\n",
            "  -1.60978193]\n",
            " [ 1.73032308 -0.67563334  0.85298664 ...  1.22934055 -1.16043277\n",
            "  -1.60978193]]\n"
          ]
        }
      ],
      "source": [
        "scaler = StandardScaler()\n",
        "scaler.fit(X)\n",
        "standardized_data = scaler.transform(X)\n",
        "print(standardized_data)"
      ]
    },
    {
      "cell_type": "code",
      "execution_count": null,
      "metadata": {
        "colab": {
          "base_uri": "https://localhost:8080/"
        },
        "id": "6mXD433Qxev9",
        "outputId": "b4554a14-f768-4587-88e6-0238d58d53d6"
      },
      "outputs": [
        {
          "name": "stdout",
          "output_type": "stream",
          "text": [
            "[[-1.73032308 -0.67563334  0.85298664 ...  1.22934055 -1.16043277\n",
            "  -1.60978193]\n",
            " [-1.72686589 -0.67563334  0.85298664 ... -0.81344425 -1.16043277\n",
            "  -1.60978193]\n",
            " [-1.7234087  -0.67563334  0.85298664 ... -0.81344425  0.86174747\n",
            "  -1.60978193]\n",
            " ...\n",
            " [ 1.7234087  -0.67563334 -1.17235131 ...  1.22934055  0.86174747\n",
            "   0.62120215]\n",
            " [ 1.72686589 -0.67563334  0.85298664 ...  1.22934055  0.86174747\n",
            "  -1.60978193]\n",
            " [ 1.73032308 -0.67563334  0.85298664 ...  1.22934055 -1.16043277\n",
            "  -1.60978193]]\n",
            "0       1\n",
            "1       0\n",
            "2       1\n",
            "3       0\n",
            "4       0\n",
            "       ..\n",
            "997     0\n",
            "998     0\n",
            "999     0\n",
            "1000    1\n",
            "1001    0\n",
            "Name: Persistent symptoms, Length: 1002, dtype: int64\n"
          ]
        }
      ],
      "source": [
        "X = standardized_data\n",
        "Y = covid_data['Persistent symptoms']\n",
        "\n",
        "print(X)\n",
        "print(Y)"
      ]
    },
    {
      "cell_type": "markdown",
      "metadata": {
        "id": "XvWCKFsU3acP"
      },
      "source": [
        "Split Dataset on Test Data and Train Data"
      ]
    },
    {
      "cell_type": "code",
      "execution_count": null,
      "metadata": {
        "colab": {
          "base_uri": "https://localhost:8080/"
        },
        "id": "24WEt4GXxqvf",
        "outputId": "8486620a-e98c-4c2f-ba44-75b57dc9edf8"
      },
      "outputs": [
        {
          "name": "stdout",
          "output_type": "stream",
          "text": [
            "(1002, 27) (801, 27) (201, 27)\n"
          ]
        }
      ],
      "source": [
        "X_train, X_test, Y_train, Y_test = train_test_split(X,Y, test_size = 0.2, stratify=Y, random_state=2)\n",
        "print(X.shape, X_train.shape, X_test.shape)"
      ]
    },
    {
      "cell_type": "markdown",
      "metadata": {
        "id": "2fYJSuHF0PEQ"
      },
      "source": [
        "Support Vector Machine"
      ]
    },
    {
      "cell_type": "code",
      "execution_count": null,
      "metadata": {
        "id": "7QHaEN4Cxyqh"
      },
      "outputs": [],
      "source": [
        "classifier = svm.SVC(kernel='linear')\n",
        "classifier.fit(X_train, Y_train)\n",
        "\n",
        "prediction = classifier.predict(X_test)\n",
        "accuracy = accuracy_score(prediction, Y_test)"
      ]
    },
    {
      "cell_type": "code",
      "execution_count": null,
      "metadata": {
        "colab": {
          "base_uri": "https://localhost:8080/",
          "height": 282
        },
        "id": "6i7BhEUp149Y",
        "outputId": "9a4480f3-0549-44c8-daa1-26dd520d77ed"
      },
      "outputs": [
        {
          "data": {
            "text/plain": [
              "<matplotlib.collections.PathCollection at 0x7f1f916fca10>"
            ]
          },
          "execution_count": 21,
          "metadata": {},
          "output_type": "execute_result"
        },
        {
          "data": {
            "image/png": "[encoded data removed]",
            "text/plain": [
              "<Figure size 432x288 with 1 Axes>"
            ]
          },
          "metadata": {
            "needs_background": "light"
          },
          "output_type": "display_data"
        }
      ],
      "source": [
        "plt.scatter(Y_test, prediction)"
      ]
    },
    {
      "cell_type": "code",
      "execution_count": null,
      "metadata": {
        "colab": {
          "base_uri": "https://localhost:8080/"
        },
        "id": "4iXnEBnUScjW",
        "outputId": "45737cb6-85e1-4070-fd4a-dd5e2c970ab9"
      },
      "outputs": [
        {
          "name": "stdout",
          "output_type": "stream",
          "text": [
            "              precision    recall  f1-score   support\n",
            "\n",
            "           0       0.88      0.99      0.93       161\n",
            "           1       0.95      0.45      0.61        40\n",
            "\n",
            "    accuracy                           0.89       201\n",
            "   macro avg       0.91      0.72      0.77       201\n",
            "weighted avg       0.89      0.89      0.87       201\n",
            "\n"
          ]
        }
      ],
      "source": [
        "print(classification_report(Y_test, prediction))"
      ]
    },
    {
      "cell_type": "code",
      "execution_count": null,
      "metadata": {
        "colab": {
          "base_uri": "https://localhost:8080/"
        },
        "id": "Sfb-2b7B0h_9",
        "outputId": "85d7bc7c-dd20-47ff-9ef1-c023f7bcc7f9"
      },
      "outputs": [
        {
          "name": "stdout",
          "output_type": "stream",
          "text": [
            "Accuracy: 0.8855721393034826\n"
          ]
        }
      ],
      "source": [
        "print('Accuracy:',accuracy)"
      ]
    },
    {
      "cell_type": "markdown",
      "metadata": {
        "id": "AfRxC0zGyyvp"
      },
      "source": [
        "Logistic Regression"
      ]
    },
    {
      "cell_type": "code",
      "execution_count": null,
      "metadata": {
        "id": "VhET4h8ay1ec"
      },
      "outputs": [],
      "source": [
        "classifier =LogisticRegression()\n",
        "classifier.fit(X_train,Y_train)\n",
        "\n",
        "prediction = classifier.predict(X_test)\n",
        "accuracy = accuracy_score(prediction, Y_test)"
      ]
    },
    {
      "cell_type": "code",
      "execution_count": null,
      "metadata": {
        "colab": {
          "base_uri": "https://localhost:8080/",
          "height": 282
        },
        "id": "EnDP_qs-2rjn",
        "outputId": "d19dbfbc-3276-48ea-dc90-8bc65df27ddb"
      },
      "outputs": [
        {
          "data": {
            "text/plain": [
              "<matplotlib.collections.PathCollection at 0x7f1f9168a1d0>"
            ]
          },
          "execution_count": 25,
          "metadata": {},
          "output_type": "execute_result"
        },
        {
          "data": {
            "image/png": "[encoded data removed]",
            "text/plain": [
              "<Figure size 432x288 with 1 Axes>"
            ]
          },
          "metadata": {
            "needs_background": "light"
          },
          "output_type": "display_data"
        }
      ],
      "source": [
        "plt.scatter(Y_test, prediction)"
      ]
    },
    {
      "cell_type": "code",
      "execution_count": null,
      "metadata": {
        "id": "2G4Mi8XkQ_TD"
      },
      "outputs": [],
      "source": [
        "print(classification_report(Y_test, prediction))"
      ]
    },
    {
      "cell_type": "code",
      "execution_count": null,
      "metadata": {
        "colab": {
          "base_uri": "https://localhost:8080/"
        },
        "id": "s7YGCLt3zZjH",
        "outputId": "c9390fd7-c5e9-4ed1-e5a7-539ba5a6dd34"
      },
      "outputs": [
        {
          "name": "stdout",
          "output_type": "stream",
          "text": [
            "Accuracy: 0.8905472636815921\n"
          ]
        }
      ],
      "source": [
        "print('Accuracy:',accuracy)"
      ]
    },
    {
      "cell_type": "markdown",
      "metadata": {
        "id": "W4f3Wr3882Ry"
      },
      "source": [
        "Naive Bayes Classifier"
      ]
    },
    {
      "cell_type": "code",
      "execution_count": null,
      "metadata": {
        "id": "nUxPbsXX87za"
      },
      "outputs": [],
      "source": [
        "from sklearn.naive_bayes import GaussianNB\n",
        "\n",
        "gnb = GaussianNB()\n",
        "\n",
        "gnb.fit(X_train, Y_train)\n",
        "p = gnb.predict(X_test)"
      ]
    },
    {
      "cell_type": "code",
      "execution_count": null,
      "metadata": {
        "colab": {
          "base_uri": "https://localhost:8080/"
        },
        "id": "6UWXgZuI9ibN",
        "outputId": "0155c8cb-4827-426e-b68c-6bd7cab9b4c0"
      },
      "outputs": [
        {
          "name": "stdout",
          "output_type": "stream",
          "text": [
            "Accuracy: 0.7810945273631841\n"
          ]
        }
      ],
      "source": [
        "from sklearn import metrics\n",
        "\n",
        "print(\"Accuracy:\",metrics.accuracy_score(Y_test, p))"
      ]
    },
    {
      "cell_type": "markdown",
      "metadata": {
        "id": "syQDURFbAO0-"
      },
      "source": [
        "Linear Regression"
      ]
    },
    {
      "cell_type": "code",
      "execution_count": null,
      "metadata": {
        "colab": {
          "base_uri": "https://localhost:8080/"
        },
        "id": "9v7ndKPOAQ1J",
        "outputId": "92e07b90-578d-4926-b22e-f70794890c24"
      },
      "outputs": [
        {
          "name": "stdout",
          "output_type": "stream",
          "text": [
            "Accuracy: 0.2870952902728071\n"
          ]
        }
      ],
      "source": [
        "from sklearn.linear_model import LinearRegression\n",
        "\n",
        "regr = LinearRegression()\n",
        "\n",
        "regr.fit(X_train, Y_train)\n",
        "p = regr.score(X_test, Y_test)\n",
        "\n",
        "print('Accuracy:' ,p)"
      ]
    },
    {
      "cell_type": "markdown",
      "metadata": {
        "id": "HIXGMz4k0_K6"
      },
      "source": [
        "AdaBoost Model"
      ]
    },
    {
      "cell_type": "code",
      "execution_count": null,
      "metadata": {
        "colab": {
          "base_uri": "https://localhost:8080/"
        },
        "id": "Reol8KyR0-EP",
        "outputId": "8b7bf5e7-6ce0-46cc-edfa-3366876d2ce0"
      },
      "outputs": [
        {
          "name": "stdout",
          "output_type": "stream",
          "text": [
            "Accuracy: 0.8805970149253731\n",
            "              precision    recall  f1-score   support\n",
            "\n",
            "           0       0.87      0.99      0.93       161\n",
            "           1       0.94      0.42      0.59        40\n",
            "\n",
            "    accuracy                           0.88       201\n",
            "   macro avg       0.91      0.71      0.76       201\n",
            "weighted avg       0.89      0.88      0.86       201\n",
            "\n"
          ]
        }
      ],
      "source": [
        "from sklearn.ensemble import AdaBoostClassifier\n",
        "from sklearn import metrics\n",
        "#from sklearn.svm import SVC\n",
        "\n",
        "#svc=SVC(probability=True, kernel='linear')\n",
        "\n",
        "abc = AdaBoostClassifier(n_estimators=50, learning_rate=0.1)\n",
        "model = abc.fit(X_train, Y_train)\n",
        "\n",
        "y_pred = model.predict(X_test)\n",
        "\n",
        "print(\"Accuracy:\",metrics.accuracy_score(Y_test, y_pred))\n",
        "print(classification_report(Y_test, y_pred))"
      ]
    },
    {
      "cell_type": "code",
      "execution_count": null,
      "metadata": {
        "colab": {
          "base_uri": "https://localhost:8080/",
          "height": 282
        },
        "id": "isE05vJYNvOT",
        "outputId": "c625f945-d023-4a1a-ac5e-ac0da170199a"
      },
      "outputs": [
        {
          "data": {
            "text/plain": [
              "<matplotlib.collections.PathCollection at 0x7fb5d2cf0810>"
            ]
          },
          "execution_count": 77,
          "metadata": {},
          "output_type": "execute_result"
        },
        {
          "data": {
            "image/png": "[encoded data removed]",
            "text/plain": [
              "<Figure size 432x288 with 1 Axes>"
            ]
          },
          "metadata": {
            "needs_background": "light"
          },
          "output_type": "display_data"
        }
      ],
      "source": [
        "plt.scatter(Y_test, y_pred)"
      ]
    },
    {
      "cell_type": "markdown",
      "metadata": {
        "id": "cMtZ67Og5TPO"
      },
      "source": [
        "Gradient Boosting Classification"
      ]
    },
    {
      "cell_type": "code",
      "execution_count": null,
      "metadata": {
        "colab": {
          "base_uri": "https://localhost:8080/"
        },
        "id": "yQoDqkBB5UMr",
        "outputId": "4f017ed6-6f3c-438d-d085-c903ba3c6c64"
      },
      "outputs": [
        {
          "name": "stdout",
          "output_type": "stream",
          "text": [
            "Accuracy: 0.8756218905472637\n",
            "              precision    recall  f1-score   support\n",
            "\n",
            "           0       0.89      0.96      0.93       161\n",
            "           1       0.78      0.53      0.63        40\n",
            "\n",
            "    accuracy                           0.88       201\n",
            "   macro avg       0.83      0.74      0.78       201\n",
            "weighted avg       0.87      0.88      0.87       201\n",
            "\n"
          ]
        }
      ],
      "source": [
        "from sklearn.metrics import classification_report\n",
        "from sklearn.ensemble import GradientBoostingClassifier\n",
        "from sklearn import metrics\n",
        "\n",
        "gradient_booster = GradientBoostingClassifier(learning_rate=0.1)\n",
        "gradient_booster.get_params()\n",
        "\n",
        "gradient_booster.fit(X_train,Y_train)\n",
        "y_prep = gradient_booster.predict(X_test)\n",
        "\n",
        "print('Accuracy:', metrics.accuracy_score(Y_test, y_prep))\n",
        "print(classification_report(Y_test, y_prep))"
      ]
    },
    {
      "cell_type": "markdown",
      "metadata": {
        "id": "WkYgW1kC7cn2"
      },
      "source": [
        "XGBoost"
      ]
    },
    {
      "cell_type": "code",
      "execution_count": null,
      "metadata": {
        "id": "LYOt-6lN7ff5"
      },
      "outputs": [],
      "source": [
        "import xgboost as xgb\n",
        "from sklearn.metrics import mean_squared_error\n",
        "from sklearn.model_selection import KFold\n",
        "from sklearn.model_selection import cross_val_score\n",
        "from sklearn.metrics import confusion_matrix, accuracy_score"
      ]
    },
    {
      "cell_type": "code",
      "execution_count": null,
      "metadata": {
        "colab": {
          "base_uri": "https://localhost:8080/"
        },
        "id": "Hutwz7fI7tAz",
        "outputId": "32e9c211-977a-432b-cacb-993bcbd275e3"
      },
      "outputs": [
        {
          "name": "stdout",
          "output_type": "stream",
          "text": [
            "[17:07:49] WARNING: /workspace/src/objective/regression_obj.cu:152: reg:linear is now deprecated in favor of reg:squarederror.\n",
            "[17:07:49] WARNING: /workspace/src/objective/regression_obj.cu:152: reg:linear is now deprecated in favor of reg:squarederror.\n",
            "[17:07:49] WARNING: /workspace/src/objective/regression_obj.cu:152: reg:linear is now deprecated in favor of reg:squarederror.\n",
            "[17:07:49] WARNING: /workspace/src/objective/regression_obj.cu:152: reg:linear is now deprecated in favor of reg:squarederror.\n",
            "[17:07:49] WARNING: /workspace/src/objective/regression_obj.cu:152: reg:linear is now deprecated in favor of reg:squarederror.\n",
            "[17:07:49] WARNING: /workspace/src/objective/regression_obj.cu:152: reg:linear is now deprecated in favor of reg:squarederror.\n",
            "[17:07:49] WARNING: /workspace/src/objective/regression_obj.cu:152: reg:linear is now deprecated in favor of reg:squarederror.\n",
            "[17:07:49] WARNING: /workspace/src/objective/regression_obj.cu:152: reg:linear is now deprecated in favor of reg:squarederror.\n",
            "[17:07:49] WARNING: /workspace/src/objective/regression_obj.cu:152: reg:linear is now deprecated in favor of reg:squarederror.\n",
            "[17:07:49] WARNING: /workspace/src/objective/regression_obj.cu:152: reg:linear is now deprecated in favor of reg:squarederror.\n",
            "[17:07:49] WARNING: /workspace/src/objective/regression_obj.cu:152: reg:linear is now deprecated in favor of reg:squarederror.\n",
            "Accuracy:26.87 %\n",
            "Standard Deviation:8.42 %\n"
          ]
        }
      ],
      "source": [
        "xg_reg = xgb.XGBRegressor(objective ='reg:linear', colsample_bytree = 0.3, learning_rate = 0.1, max_depth = 10, alpha = 10, n_estimators = 50)\n",
        "\n",
        "xg_reg.fit(X_train,Y_train)\n",
        "\n",
        "y_pred = xg_reg.predict(X_test)\n",
        "\n",
        "#Applying the K-Fold Cross Validation\n",
        "accuracies = cross_val_score(estimator = xg_reg, X = X_train, y = Y_train, cv = 10)\n",
        "print(\"Accuracy:{:.2f} %\".format(accuracies.mean()*100))\n",
        "print(\"Standard Deviation:{:.2f} %\".format(accuracies.std()*100))\n"
      ]
    }
  ],
  "metadata": {
    "colab": {
      "provenance": []
    },
    "kernelspec": {
      "display_name": "Python 3.10.8 64-bit",
      "language": "python",
      "name": "python3"
    },
    "language_info": {
      "name": "python",
      "version": "3.10.8"
    },
    "vscode": {
      "interpreter": {
        "hash": "fb4569285eef3a3450cb62085a5b1e0da4bce0af555edc33dcf29baf3acc1368"
      }
    }
  },
  "nbformat": 4,
  "nbformat_minor": 0
}
