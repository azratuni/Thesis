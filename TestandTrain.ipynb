{
 "cells": [
  {
   "cell_type": "code",
   "execution_count": 30,
   "id": "9eRB81ELKxrp",
   "metadata": {
    "id": "9eRB81ELKxrp"
   },
   "outputs": [],
   "source": [
    "#Import required libraries\n",
    "import pandas as pd\n",
    "import numpy as np\n",
    "import matplotlib.pyplot as plt\n",
    "\n",
    "from sklearn.preprocessing import LabelEncoder\n",
    "from sklearn.model_selection import train_test_split\n",
    "from sklearn.model_selection import cross_val_score\n",
    "from sklearn.model_selection import GridSearchCV\n",
    "from sklearn.preprocessing import StandardScaler\n",
    "from sklearn.linear_model import LogisticRegression\n",
    "from sklearn.neighbors import KNeighborsClassifier\n",
    "from sklearn.svm import SVC\n",
    "from sklearn.tree import DecisionTreeClassifier\n",
    "from sklearn.ensemble import RandomForestClassifier\n",
    "from sklearn.naive_bayes import GaussianNB\n",
    "from sklearn.metrics import accuracy_score"
   ]
  },
  {
   "cell_type": "code",
   "execution_count": 31,
   "id": "vl4-xSRdLS35",
   "metadata": {
    "colab": {
     "base_uri": "https://localhost:8080/"
    },
    "id": "vl4-xSRdLS35",
    "outputId": "5034b11c-6bef-43e0-b75d-6bf5f78e875a"
   },
   "outputs": [
    {
     "name": "stdout",
     "output_type": "stream",
     "text": [
      "   ID  age_group  Sex  Fever  Cough  Resp_dist  Sore_throat  Chest_pain  \\\n",
      "0   1          1    1      1      0          0            1           1   \n",
      "1   2          1    1      1      0          0            0           0   \n",
      "2   3          1    1      1      0          0            0           0   \n",
      "3   4          1    0      1      1          0            1           1   \n",
      "4   5          1    0      1      1          1            1           0   \n",
      "\n",
      "   Headache  Diarrhea  ...  Cancer  Kidney_problems  Fear_of_reinfection  \\\n",
      "0         1         0  ...       0                0                    0   \n",
      "1         0         0  ...       0                0                    0   \n",
      "2         0         0  ...       0                0                    0   \n",
      "3         1         0  ...       0                0                    0   \n",
      "4         1         0  ...       0                0                    0   \n",
      "\n",
      "   Hozpitalization  Self_medication  Persistent_symptoms  Depression  \\\n",
      "0                0                0                    1           0   \n",
      "1                0                0                    0           1   \n",
      "2                0                0                    1           0   \n",
      "3                1                0                    0           1   \n",
      "4                0                1                    0           0   \n",
      "\n",
      "   Sputum_production  Lack_of_appetite  Fatigue  \n",
      "0                  1                 0        0  \n",
      "1                  0                 0        0  \n",
      "2                  0                 1        0  \n",
      "3                  0                 1        1  \n",
      "4                  1                 0        1  \n",
      "\n",
      "[5 rows x 28 columns]\n"
     ]
    }
   ],
   "source": [
    "#Read the dataset\n",
    "data=pd.read_csv('covid_database.csv')\n",
    "\n",
    "#Display the first five rows\n",
    "print(data.head())"
   ]
  },
  {
   "cell_type": "code",
   "execution_count": 32,
   "id": "12Q8eaxlQdoF",
   "metadata": {
    "colab": {
     "base_uri": "https://localhost:8080/",
     "height": 237
    },
    "id": "12Q8eaxlQdoF",
    "outputId": "9d02332d-cc68-457b-94bc-ce6fb44f7b7b"
   },
   "outputs": [
    {
     "data": {
      "text/html": [
       "<div>\n",
       "<style scoped>\n",
       "    .dataframe tbody tr th:only-of-type {\n",
       "        vertical-align: middle;\n",
       "    }\n",
       "\n",
       "    .dataframe tbody tr th {\n",
       "        vertical-align: top;\n",
       "    }\n",
       "\n",
       "    .dataframe thead th {\n",
       "        text-align: right;\n",
       "    }\n",
       "</style>\n",
       "<table border=\"1\" class=\"dataframe\">\n",
       "  <thead>\n",
       "    <tr style=\"text-align: right;\">\n",
       "      <th></th>\n",
       "      <th>ID</th>\n",
       "      <th>age_group</th>\n",
       "      <th>Sex</th>\n",
       "      <th>Fever</th>\n",
       "      <th>Cough</th>\n",
       "      <th>Resp_dist</th>\n",
       "      <th>Sore_throat</th>\n",
       "      <th>Chest_pain</th>\n",
       "      <th>Headache</th>\n",
       "      <th>Diarrhea</th>\n",
       "      <th>...</th>\n",
       "      <th>Heart_disease</th>\n",
       "      <th>Cancer</th>\n",
       "      <th>Kidney_problems</th>\n",
       "      <th>Fear_of_reinfection</th>\n",
       "      <th>Hozpitalization</th>\n",
       "      <th>Self_medication</th>\n",
       "      <th>Depression</th>\n",
       "      <th>Sputum_production</th>\n",
       "      <th>Lack_of_appetite</th>\n",
       "      <th>Fatigue</th>\n",
       "    </tr>\n",
       "    <tr>\n",
       "      <th>Persistent_symptoms</th>\n",
       "      <th></th>\n",
       "      <th></th>\n",
       "      <th></th>\n",
       "      <th></th>\n",
       "      <th></th>\n",
       "      <th></th>\n",
       "      <th></th>\n",
       "      <th></th>\n",
       "      <th></th>\n",
       "      <th></th>\n",
       "      <th></th>\n",
       "      <th></th>\n",
       "      <th></th>\n",
       "      <th></th>\n",
       "      <th></th>\n",
       "      <th></th>\n",
       "      <th></th>\n",
       "      <th></th>\n",
       "      <th></th>\n",
       "      <th></th>\n",
       "      <th></th>\n",
       "    </tr>\n",
       "  </thead>\n",
       "  <tbody>\n",
       "    <tr>\n",
       "      <th>0</th>\n",
       "      <td>802</td>\n",
       "      <td>802</td>\n",
       "      <td>802</td>\n",
       "      <td>802</td>\n",
       "      <td>802</td>\n",
       "      <td>802</td>\n",
       "      <td>802</td>\n",
       "      <td>802</td>\n",
       "      <td>802</td>\n",
       "      <td>802</td>\n",
       "      <td>...</td>\n",
       "      <td>802</td>\n",
       "      <td>802</td>\n",
       "      <td>802</td>\n",
       "      <td>802</td>\n",
       "      <td>802</td>\n",
       "      <td>802</td>\n",
       "      <td>802</td>\n",
       "      <td>802</td>\n",
       "      <td>802</td>\n",
       "      <td>802</td>\n",
       "    </tr>\n",
       "    <tr>\n",
       "      <th>1</th>\n",
       "      <td>200</td>\n",
       "      <td>200</td>\n",
       "      <td>200</td>\n",
       "      <td>200</td>\n",
       "      <td>200</td>\n",
       "      <td>200</td>\n",
       "      <td>200</td>\n",
       "      <td>200</td>\n",
       "      <td>200</td>\n",
       "      <td>200</td>\n",
       "      <td>...</td>\n",
       "      <td>200</td>\n",
       "      <td>200</td>\n",
       "      <td>200</td>\n",
       "      <td>200</td>\n",
       "      <td>200</td>\n",
       "      <td>200</td>\n",
       "      <td>200</td>\n",
       "      <td>200</td>\n",
       "      <td>200</td>\n",
       "      <td>200</td>\n",
       "    </tr>\n",
       "  </tbody>\n",
       "</table>\n",
       "<p>2 rows × 27 columns</p>\n",
       "</div>"
      ],
      "text/plain": [
       "                      ID  age_group  Sex  Fever  Cough  Resp_dist  \\\n",
       "Persistent_symptoms                                                 \n",
       "0                    802        802  802    802    802        802   \n",
       "1                    200        200  200    200    200        200   \n",
       "\n",
       "                     Sore_throat  Chest_pain  Headache  Diarrhea  ...  \\\n",
       "Persistent_symptoms                                               ...   \n",
       "0                            802         802       802       802  ...   \n",
       "1                            200         200       200       200  ...   \n",
       "\n",
       "                     Heart_disease  Cancer  Kidney_problems  \\\n",
       "Persistent_symptoms                                           \n",
       "0                              802     802              802   \n",
       "1                              200     200              200   \n",
       "\n",
       "                     Fear_of_reinfection  Hozpitalization  Self_medication  \\\n",
       "Persistent_symptoms                                                          \n",
       "0                                    802              802              802   \n",
       "1                                    200              200              200   \n",
       "\n",
       "                     Depression  Sputum_production  Lack_of_appetite  Fatigue  \n",
       "Persistent_symptoms                                                            \n",
       "0                           802                802               802      802  \n",
       "1                           200                200               200      200  \n",
       "\n",
       "[2 rows x 27 columns]"
      ]
     },
     "execution_count": 32,
     "metadata": {},
     "output_type": "execute_result"
    }
   ],
   "source": [
    "data.groupby('Persistent_symptoms').count()"
   ]
  },
  {
   "cell_type": "code",
   "execution_count": 33,
   "id": "DLaxu9jbR4YQ",
   "metadata": {
    "colab": {
     "base_uri": "https://localhost:8080/"
    },
    "id": "DLaxu9jbR4YQ",
    "outputId": "51eb707a-2cc3-4eda-bb59-3e135888cdb5"
   },
   "outputs": [
    {
     "name": "stdout",
     "output_type": "stream",
     "text": [
      "ID                     0\n",
      "age_group              0\n",
      "Sex                    0\n",
      "Fever                  0\n",
      "Cough                  0\n",
      "Resp_dist              0\n",
      "Sore_throat            0\n",
      "Chest_pain             0\n",
      "Headache               0\n",
      "Diarrhea               0\n",
      "Dyspnea                0\n",
      "Myalgia                0\n",
      "Sleep_disturbance      0\n",
      "Smoking_habits         0\n",
      "Physical_exercise      0\n",
      "Diabetes               0\n",
      "Hypertension           0\n",
      "Heart_disease          0\n",
      "Cancer                 0\n",
      "Kidney_problems        0\n",
      "Fear_of_reinfection    0\n",
      "Hozpitalization        0\n",
      "Self_medication        0\n",
      "Persistent_symptoms    0\n",
      "Depression             0\n",
      "Sputum_production      0\n",
      "Lack_of_appetite       0\n",
      "Fatigue                0\n",
      "dtype: int64\n"
     ]
    }
   ],
   "source": [
    "#Check for null values\n",
    "print(data.isnull().sum())"
   ]
  },
  {
   "cell_type": "code",
   "execution_count": 34,
   "id": "cQveR_HjR95I",
   "metadata": {
    "colab": {
     "base_uri": "https://localhost:8080/"
    },
    "id": "cQveR_HjR95I",
    "outputId": "be3c260f-a534-4125-a0fb-62d6f9555de9"
   },
   "outputs": [
    {
     "data": {
      "text/plain": [
       "ID                     int64\n",
       "age_group              int64\n",
       "Sex                    int64\n",
       "Fever                  int64\n",
       "Cough                  int64\n",
       "Resp_dist              int64\n",
       "Sore_throat            int64\n",
       "Chest_pain             int64\n",
       "Headache               int64\n",
       "Diarrhea               int64\n",
       "Dyspnea                int64\n",
       "Myalgia                int64\n",
       "Sleep_disturbance      int64\n",
       "Smoking_habits         int64\n",
       "Physical_exercise      int64\n",
       "Diabetes               int64\n",
       "Hypertension           int64\n",
       "Heart_disease          int64\n",
       "Cancer                 int64\n",
       "Kidney_problems        int64\n",
       "Fear_of_reinfection    int64\n",
       "Hozpitalization        int64\n",
       "Self_medication        int64\n",
       "Persistent_symptoms    int64\n",
       "Depression             int64\n",
       "Sputum_production      int64\n",
       "Lack_of_appetite       int64\n",
       "Fatigue                int64\n",
       "dtype: object"
      ]
     },
     "execution_count": 34,
     "metadata": {},
     "output_type": "execute_result"
    }
   ],
   "source": [
    "#Check data types\n",
    "data.dtypes"
   ]
  },
  {
   "cell_type": "code",
   "execution_count": 35,
   "id": "OwQtR01bSEmr",
   "metadata": {
    "colab": {
     "base_uri": "https://localhost:8080/"
    },
    "id": "OwQtR01bSEmr",
    "outputId": "85c7b7fd-a9ae-4ce1-8aa4-1dd2b90b7c68"
   },
   "outputs": [
    {
     "name": "stdout",
     "output_type": "stream",
     "text": [
      "X_train shape: (801, 27)\n",
      "X_test shape: (201, 27)\n",
      "y_train shape: (801,)\n",
      "y_test shape: (201,)\n"
     ]
    }
   ],
   "source": [
    "#Divide the dataset into independent and dependent variables\n",
    "X = data.drop([\"Persistent_symptoms\"], axis=1)\n",
    "y = data['Persistent_symptoms']\n",
    "\n",
    "#y = y.values.ravel()\n",
    "#Split the data into training and testing set\n",
    "X_train, X_test, y_train, y_test = train_test_split(X, y, test_size=0.2, random_state=42, shuffle=True) \n",
    "\n",
    "#Data was splitted as 80% train data and 20% test data.\n",
    "y_train = y_train.values.ravel()\n",
    "y_test = y_test.values.ravel()\n",
    "#y_train = y_train.values.reshape(-1,1)\n",
    "#y_test = y_test.values.reshape(-1,1)\n",
    "\n",
    "print(\"X_train shape:\",X_train.shape)\n",
    "print(\"X_test shape:\",X_test.shape)\n",
    "print(\"y_train shape:\",y_train.shape)\n",
    "print(\"y_test shape:\",y_test.shape)"
   ]
  },
  {
   "cell_type": "code",
   "execution_count": 36,
   "id": "V0Tk-UKbTdB8",
   "metadata": {
    "id": "V0Tk-UKbTdB8"
   },
   "outputs": [],
   "source": [
    "#Feature Scaling\n",
    "sc = StandardScaler()\n",
    "X_train = sc.fit_transform(X_train)\n",
    "X_test = sc.fit_transform(X_test)"
   ]
  },
  {
   "cell_type": "code",
   "execution_count": 37,
   "id": "bIiICadUTg9C",
   "metadata": {
    "id": "bIiICadUTg9C"
   },
   "outputs": [],
   "source": [
    "#To store results of models, we create two dictionaries\n",
    "result_dict_train = {}\n",
    "result_dict_test = {}"
   ]
  },
  {
   "cell_type": "code",
   "execution_count": 38,
   "id": "I8WRpbP0TiLc",
   "metadata": {
    "colab": {
     "base_uri": "https://localhost:8080/"
    },
    "id": "I8WRpbP0TiLc",
    "outputId": "860320c8-1454-4fb8-e600-b3ce708c7160"
   },
   "outputs": [
    {
     "name": "stdout",
     "output_type": "stream",
     "text": [
      "Train Score: 0.8439673913043478\n",
      "Test Score: 0.835820895522388\n"
     ]
    }
   ],
   "source": [
    "reg = LogisticRegression(random_state = 42)\n",
    "accuracies = cross_val_score(reg, X_train, y_train, cv=5)\n",
    "reg.fit(X_train,y_train)\n",
    "y_pred = reg.predict(X_test)\n",
    "\n",
    "#Obtain accuracy\n",
    "print(\"Train Score:\",np.mean(accuracies))\n",
    "print(\"Test Score:\",reg.score(X_test,y_test))"
   ]
  },
  {
   "cell_type": "code",
   "execution_count": 39,
   "id": "bCJjFmMeV5Dq",
   "metadata": {
    "id": "bCJjFmMeV5Dq"
   },
   "outputs": [],
   "source": [
    "#Store results in the dictionaries\n",
    "result_dict_train[\"Logistic Train Score\"] = np.mean(accuracies)\n",
    "result_dict_test[\"Logistic Test Score\"] = reg.score(X_test,y_test)"
   ]
  },
  {
   "cell_type": "code",
   "execution_count": 40,
   "id": "4CSWjnJfWEnR",
   "metadata": {
    "colab": {
     "base_uri": "https://localhost:8080/"
    },
    "id": "4CSWjnJfWEnR",
    "outputId": "d4c24b15-70b5-440d-f7e3-7d349de77a09"
   },
   "outputs": [
    {
     "name": "stdout",
     "output_type": "stream",
     "text": [
      "Train Score: 0.8514596273291926\n",
      "Test Score: 0.845771144278607\n"
     ]
    }
   ],
   "source": [
    "knn = KNeighborsClassifier()\n",
    "accuracies = cross_val_score(knn, X_train, y_train, cv=5)\n",
    "knn.fit(X_train,y_train)\n",
    "y_pred = knn.predict(X_test)\n",
    "\n",
    "#Obtain accuracy\n",
    "print(\"Train Score:\",np.mean(accuracies))\n",
    "print(\"Test Score:\",knn.score(X_test,y_test))"
   ]
  },
  {
   "cell_type": "code",
   "execution_count": 41,
   "id": "rCpo8wzIWNk1",
   "metadata": {
    "id": "rCpo8wzIWNk1"
   },
   "outputs": [],
   "source": [
    "#Store results in the dictionaries\n",
    "result_dict_train[\"KNN Train Score\"] = np.mean(accuracies)\n",
    "result_dict_test[\"KNN Test Score\"] = knn.score(X_test,y_test)"
   ]
  },
  {
   "cell_type": "code",
   "execution_count": 42,
   "id": "rNSY1L8DWQRX",
   "metadata": {
    "colab": {
     "base_uri": "https://localhost:8080/"
    },
    "id": "rNSY1L8DWQRX",
    "outputId": "447175e5-73c1-4936-a49f-1a2056036aa6"
   },
   "outputs": [
    {
     "name": "stdout",
     "output_type": "stream",
     "text": [
      "Train Score: 0.862694099378882\n",
      "Test Score: 0.8606965174129353\n"
     ]
    }
   ],
   "source": [
    "svc = SVC(random_state = 42)\n",
    "accuracies = cross_val_score(svc, X_train, y_train, cv=5)\n",
    "svc.fit(X_train,y_train)\n",
    "y_pred = svc.predict(X_test)\n",
    "\n",
    "#Obtain accuracy\n",
    "print(\"Train Score:\",np.mean(accuracies))\n",
    "print(\"Test Score:\",svc.score(X_test,y_test))"
   ]
  },
  {
   "cell_type": "code",
   "execution_count": 43,
   "id": "GVTEqI4RWUxl",
   "metadata": {
    "id": "GVTEqI4RWUxl"
   },
   "outputs": [],
   "source": [
    "#Store results in the dictionaries\n",
    "result_dict_train[\"SVM Train Score\"] = np.mean(accuracies)\n",
    "result_dict_test[\"SVM Test Score\"] = svc.score(X_test,y_test)"
   ]
  },
  {
   "cell_type": "code",
   "execution_count": 44,
   "id": "RPV7XQv-WYlZ",
   "metadata": {
    "colab": {
     "base_uri": "https://localhost:8080/"
    },
    "id": "RPV7XQv-WYlZ",
    "outputId": "11ca5ec0-9699-4d83-a137-89c3bc1b43e0"
   },
   "outputs": [
    {
     "name": "stdout",
     "output_type": "stream",
     "text": [
      "Train Score: 0.7928027950310559\n",
      "Test Score: 0.8258706467661692\n"
     ]
    }
   ],
   "source": [
    "dtc = DecisionTreeClassifier(random_state = 42)\n",
    "accuracies = cross_val_score(dtc, X_train, y_train, cv=5)\n",
    "dtc.fit(X_train,y_train)\n",
    "y_pred = dtc.predict(X_test)\n",
    "\n",
    "#Obtain accuracy\n",
    "print(\"Train Score:\",np.mean(accuracies))\n",
    "print(\"Test Score:\",dtc.score(X_test,y_test))"
   ]
  },
  {
   "cell_type": "code",
   "execution_count": 45,
   "id": "G9n6y9RPWffb",
   "metadata": {
    "id": "G9n6y9RPWffb"
   },
   "outputs": [],
   "source": [
    "#Store results in the dictionaries\n",
    "result_dict_train[\"Decision Tree Train Score\"] = np.mean(accuracies)\n",
    "result_dict_test[\"Decision Tree Test Score\"] = dtc.score(X_test,y_test)"
   ]
  },
  {
   "cell_type": "code",
   "execution_count": 46,
   "id": "s5VevFMbWiVd",
   "metadata": {
    "colab": {
     "base_uri": "https://localhost:8080/"
    },
    "id": "s5VevFMbWiVd",
    "outputId": "f0b195aa-e335-4567-ed8c-4b462b69a09e"
   },
   "outputs": [
    {
     "name": "stdout",
     "output_type": "stream",
     "text": [
      "Train Score: 0.8739285714285714\n",
      "Test Score: 0.8656716417910447\n"
     ]
    }
   ],
   "source": [
    "rfc = RandomForestClassifier(random_state = 42)\n",
    "accuracies = cross_val_score(rfc, X_train, y_train, cv=5)\n",
    "rfc.fit(X_train,y_train)\n",
    "y_pred = rfc.predict(X_test)\n",
    "\n",
    "#Obtain accuracy\n",
    "print(\"Train Score:\",np.mean(accuracies))\n",
    "print(\"Test Score:\",rfc.score(X_test,y_test))"
   ]
  },
  {
   "cell_type": "code",
   "execution_count": 47,
   "id": "bdOwJxW4WpBo",
   "metadata": {
    "id": "bdOwJxW4WpBo"
   },
   "outputs": [],
   "source": [
    "#Store results in the dictionaries\n",
    "result_dict_train[\"Random Forest Train Score\"] = np.mean(accuracies)\n",
    "result_dict_test[\"Random Forest Test Score\"] = rfc.score(X_test,y_test)"
   ]
  },
  {
   "cell_type": "code",
   "execution_count": 48,
   "id": "CXma6iQ5Wr7e",
   "metadata": {
    "colab": {
     "base_uri": "https://localhost:8080/"
    },
    "id": "CXma6iQ5Wr7e",
    "outputId": "9efb55a0-431d-4846-a8f2-e43394220601"
   },
   "outputs": [
    {
     "name": "stdout",
     "output_type": "stream",
     "text": [
      "Train Score: 0.79152950310559\n",
      "Test Score: 0.7761194029850746\n"
     ]
    }
   ],
   "source": [
    "gnb = GaussianNB()\n",
    "accuracies = cross_val_score(gnb, X_train, y_train, cv=5)\n",
    "gnb.fit(X_train,y_train)\n",
    "y_pred = gnb.predict(X_test)\n",
    "\n",
    "#Obtain accuracy\n",
    "print(\"Train Score:\",np.mean(accuracies))\n",
    "print(\"Test Score:\",gnb.score(X_test,y_test))"
   ]
  },
  {
   "cell_type": "code",
   "execution_count": 49,
   "id": "r20oz4KyWxOj",
   "metadata": {
    "id": "r20oz4KyWxOj"
   },
   "outputs": [],
   "source": [
    "#Store results in the dictionaries\n",
    "result_dict_train[\"Gaussian NB Train Score\"] = np.mean(accuracies)\n",
    "result_dict_test[\"Gaussian NB Test Score\"] = gnb.score(X_test,y_test)"
   ]
  },
  {
   "cell_type": "code",
   "execution_count": 50,
   "id": "QlYqeKBkW0xY",
   "metadata": {
    "colab": {
     "base_uri": "https://localhost:8080/",
     "height": 238
    },
    "id": "QlYqeKBkW0xY",
    "outputId": "7f9ba296-7e0d-48c4-f3e1-36fe3950bb91"
   },
   "outputs": [
    {
     "data": {
      "text/html": [
       "<div>\n",
       "<style scoped>\n",
       "    .dataframe tbody tr th:only-of-type {\n",
       "        vertical-align: middle;\n",
       "    }\n",
       "\n",
       "    .dataframe tbody tr th {\n",
       "        vertical-align: top;\n",
       "    }\n",
       "\n",
       "    .dataframe thead th {\n",
       "        text-align: right;\n",
       "    }\n",
       "</style>\n",
       "<table border=\"1\" class=\"dataframe\">\n",
       "  <thead>\n",
       "    <tr style=\"text-align: right;\">\n",
       "      <th></th>\n",
       "      <th>Score</th>\n",
       "    </tr>\n",
       "  </thead>\n",
       "  <tbody>\n",
       "    <tr>\n",
       "      <th>Logistic Train Score</th>\n",
       "      <td>0.843967</td>\n",
       "    </tr>\n",
       "    <tr>\n",
       "      <th>KNN Train Score</th>\n",
       "      <td>0.851460</td>\n",
       "    </tr>\n",
       "    <tr>\n",
       "      <th>SVM Train Score</th>\n",
       "      <td>0.862694</td>\n",
       "    </tr>\n",
       "    <tr>\n",
       "      <th>Decision Tree Train Score</th>\n",
       "      <td>0.792803</td>\n",
       "    </tr>\n",
       "    <tr>\n",
       "      <th>Random Forest Train Score</th>\n",
       "      <td>0.873929</td>\n",
       "    </tr>\n",
       "    <tr>\n",
       "      <th>Gaussian NB Train Score</th>\n",
       "      <td>0.791530</td>\n",
       "    </tr>\n",
       "  </tbody>\n",
       "</table>\n",
       "</div>"
      ],
      "text/plain": [
       "                              Score\n",
       "Logistic Train Score       0.843967\n",
       "KNN Train Score            0.851460\n",
       "SVM Train Score            0.862694\n",
       "Decision Tree Train Score  0.792803\n",
       "Random Forest Train Score  0.873929\n",
       "Gaussian NB Train Score    0.791530"
      ]
     },
     "execution_count": 50,
     "metadata": {},
     "output_type": "execute_result"
    }
   ],
   "source": [
    "df_result_train = pd.DataFrame.from_dict(result_dict_train,orient = \"index\", columns=[\"Score\"])\n",
    "print(df_result_train)"
   ]
  },
  {
   "cell_type": "code",
   "execution_count": 51,
   "id": "b9IYbR8fW51c",
   "metadata": {
    "colab": {
     "base_uri": "https://localhost:8080/",
     "height": 238
    },
    "id": "b9IYbR8fW51c",
    "outputId": "78d08844-db48-4a55-d7c7-10be7985bfb7"
   },
   "outputs": [
    {
     "data": {
      "text/html": [
       "<div>\n",
       "<style scoped>\n",
       "    .dataframe tbody tr th:only-of-type {\n",
       "        vertical-align: middle;\n",
       "    }\n",
       "\n",
       "    .dataframe tbody tr th {\n",
       "        vertical-align: top;\n",
       "    }\n",
       "\n",
       "    .dataframe thead th {\n",
       "        text-align: right;\n",
       "    }\n",
       "</style>\n",
       "<table border=\"1\" class=\"dataframe\">\n",
       "  <thead>\n",
       "    <tr style=\"text-align: right;\">\n",
       "      <th></th>\n",
       "      <th>Score</th>\n",
       "    </tr>\n",
       "  </thead>\n",
       "  <tbody>\n",
       "    <tr>\n",
       "      <th>Logistic Test Score</th>\n",
       "      <td>0.835821</td>\n",
       "    </tr>\n",
       "    <tr>\n",
       "      <th>KNN Test Score</th>\n",
       "      <td>0.845771</td>\n",
       "    </tr>\n",
       "    <tr>\n",
       "      <th>SVM Test Score</th>\n",
       "      <td>0.860697</td>\n",
       "    </tr>\n",
       "    <tr>\n",
       "      <th>Decision Tree Test Score</th>\n",
       "      <td>0.825871</td>\n",
       "    </tr>\n",
       "    <tr>\n",
       "      <th>Random Forest Test Score</th>\n",
       "      <td>0.865672</td>\n",
       "    </tr>\n",
       "    <tr>\n",
       "      <th>Gaussian NB Test Score</th>\n",
       "      <td>0.776119</td>\n",
       "    </tr>\n",
       "  </tbody>\n",
       "</table>\n",
       "</div>"
      ],
      "text/plain": [
       "                             Score\n",
       "Logistic Test Score       0.835821\n",
       "KNN Test Score            0.845771\n",
       "SVM Test Score            0.860697\n",
       "Decision Tree Test Score  0.825871\n",
       "Random Forest Test Score  0.865672\n",
       "Gaussian NB Test Score    0.776119"
      ]
     },
     "execution_count": 51,
     "metadata": {},
     "output_type": "execute_result"
    }
   ],
   "source": [
    "df_result_test = pd.DataFrame.from_dict(result_dict_test,orient = \"index\",columns=[\"Score\"])\n",
    "print(df_result_train)"
   ]
  },
  {
   "cell_type": "code",
   "execution_count": 57,
   "id": "b_pjpgpdW_hp",
   "metadata": {
    "colab": {
     "base_uri": "https://localhost:8080/",
     "height": 441
    },
    "id": "b_pjpgpdW_hp",
    "outputId": "4e86d52b-d08b-4095-ca7c-28cf62a1c2e2"
   },
   "outputs": [
    {
     "data": {
      "image/png": "[encoded data removed]",
      "text/plain": [
       "<Figure size 432x288 with 2 Axes>"
      ]
     },
     "metadata": {
      "needs_background": "light"
     },
     "output_type": "display_data"
    },
    {
     "data": {
      "image/png": "[encoded data removed]",
      "text/plain": [
       "<Figure size 1440x360 with 2 Axes>"
      ]
     },
     "metadata": {
      "needs_background": "light"
     },
     "output_type": "display_data"
    }
   ],
   "source": [
    "import seaborn as sns\n",
    "\n",
    "# checking correlation using heatmap\n",
    "#Loading dataset\n",
    "cormat = data.corr()\n",
    "round(cormat,2)  # type: ignore\n",
    "sns.heatmap(cormat);\n",
    "\n",
    "\n",
    "fig,ax = plt.subplots(1,2,figsize=(20,5))\n",
    "sns.barplot(x = df_result_train.index,y = df_result_train.Score,ax = ax[0])\n",
    "sns.barplot(x = df_result_test.index,y = df_result_test.Score,ax = ax[1])\n",
    "ax[0].set_xticklabels(df_result_train.index,rotation = 75)\n",
    "ax[1].set_xticklabels(df_result_test.index,rotation = 75)\n",
    "plt.show()"
   ]
  }
 ],
 "metadata": {
  "colab": {
   "provenance": []
  },
  "kernelspec": {
   "display_name": "Python 3.10.6 64-bit",
   "language": "python",
   "name": "python3"
  },
  "language_info": {
   "codemirror_mode": {
    "name": "ipython",
    "version": 3
   },
   "file_extension": ".py",
   "mimetype": "text/x-python",
   "name": "python",
   "nbconvert_exporter": "python",
   "pygments_lexer": "ipython3",
   "version": "3.10.6"
  },
  "vscode": {
   "interpreter": {
    "hash": "fb4569285eef3a3450cb62085a5b1e0da4bce0af555edc33dcf29baf3acc1368"
   }
  }
 },
 "nbformat": 4,
 "nbformat_minor": 5
}
