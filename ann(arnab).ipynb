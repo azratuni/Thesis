{
  "nbformat": 4,
  "nbformat_minor": 0,
  "metadata": {
    "colab": {
      "provenance": []
    },
    "kernelspec": {
      "name": "python3",
      "display_name": "Python 3"
    },
    "language_info": {
      "name": "python"
    }
  },
  "cells": [
    {
      "cell_type": "code",
      "execution_count": 31,
      "metadata": {
        "id": "-3bWaDLH8OpS"
      },
      "outputs": [],
      "source": [
        "import numpy as np\n",
        "import pandas as pd\n",
        "import tensorflow as tf\n",
        "from sklearn.model_selection import train_test_split\n",
        "from sklearn.preprocessing import StandardScaler"
      ]
    },
    {
      "cell_type": "code",
      "source": [
        "covid_data = pd.read_csv(\"/content/covid_data_neumerical.csv\")\n",
        "covid_data.head()"
      ],
      "metadata": {
        "id": "tNcV9MNl8jRH"
      },
      "execution_count": null,
      "outputs": []
    },
    {
      "cell_type": "code",
      "source": [
        "X = covid_data.drop(columns = 'Persistent symptoms', axis=1)\n",
        "Y = covid_data['Persistent symptoms']"
      ],
      "metadata": {
        "id": "4LHnhM71-mzB"
      },
      "execution_count": 14,
      "outputs": []
    },
    {
      "cell_type": "code",
      "source": [
        "#Data Standardization\n",
        "scaler = StandardScaler()\n",
        "scaler.fit(X)\n",
        "standardized_data = scaler.transform(X)\n",
        "print(standardized_data)"
      ],
      "metadata": {
        "id": "c_Ynkxzg-y2v"
      },
      "execution_count": null,
      "outputs": []
    },
    {
      "cell_type": "code",
      "source": [
        "X = standardized_data\n",
        "Y = covid_data['Persistent symptoms']\n",
        "\n",
        "print(X)\n",
        "print(Y)"
      ],
      "metadata": {
        "id": "W2-Z9si4-wZR"
      },
      "execution_count": null,
      "outputs": []
    },
    {
      "cell_type": "code",
      "source": [
        "#Data split\n",
        "X_train,X_test,Y_train,Y_test = train_test_split(X,Y,test_size=0.2,random_state=0)"
      ],
      "metadata": {
        "id": "r3AfhGWj9Lak"
      },
      "execution_count": 47,
      "outputs": []
    },
    {
      "cell_type": "code",
      "source": [
        "X_train = scaler.fit_transform(X_train)\n",
        "X_test = scaler.transform(X_test)"
      ],
      "metadata": {
        "id": "o7ZAo7wD_NRI"
      },
      "execution_count": 18,
      "outputs": []
    },
    {
      "cell_type": "code",
      "source": [
        "#ANN\n",
        "ann = tf.keras.models.Sequential()"
      ],
      "metadata": {
        "id": "GvLad5JH_W_S"
      },
      "execution_count": 22,
      "outputs": []
    },
    {
      "cell_type": "code",
      "source": [
        "#Adding Input Hidden Layer\n",
        "ann.add(tf.keras.layers.Dense(units=6,activation=\"relu\"))"
      ],
      "metadata": {
        "id": "aRUpvi7-_cK6"
      },
      "execution_count": 42,
      "outputs": []
    },
    {
      "cell_type": "code",
      "source": [
        "#Adding First Hidden Layer\n",
        "ann.add(tf.keras.layers.Dense(units=6,activation=\"relu\"))"
      ],
      "metadata": {
        "id": "tHpMaTDu_lHO"
      },
      "execution_count": 43,
      "outputs": []
    },
    {
      "cell_type": "code",
      "source": [
        "#Adding Output Layer\n",
        "ann.add(tf.keras.layers.Dense(units=1,activation=\"sigmoid\"))"
      ],
      "metadata": {
        "id": "IrP1UL7g_nm3"
      },
      "execution_count": 44,
      "outputs": []
    },
    {
      "cell_type": "code",
      "source": [
        "#Compiling ANN\n",
        "ann.compile(optimizer=\"adam\",loss=\"binary_crossentropy\",metrics=['accuracy'])"
      ],
      "metadata": {
        "id": "_bfaDhQt_tF2"
      },
      "execution_count": 24,
      "outputs": []
    },
    {
      "cell_type": "code",
      "source": [
        "#Fitting ANN\n",
        "ann.fit(X_train,Y_train,batch_size=64,epochs = 100)"
      ],
      "metadata": {
        "colab": {
          "base_uri": "https://localhost:8080/"
        },
        "id": "08UhtZqh_wID",
        "outputId": "bb81e8b8-9fe0-4fde-af05-e2ab5bebba9a"
      },
      "execution_count": 48,
      "outputs": [
        {
          "output_type": "stream",
          "name": "stdout",
          "text": [
            "Epoch 1/100\n",
            "13/13 [==============================] - 0s 2ms/step - loss: 0.3379 - accuracy: 0.8639\n",
            "Epoch 2/100\n",
            "13/13 [==============================] - 0s 2ms/step - loss: 0.3378 - accuracy: 0.8639\n",
            "Epoch 3/100\n",
            "13/13 [==============================] - 0s 2ms/step - loss: 0.3378 - accuracy: 0.8639\n",
            "Epoch 4/100\n",
            "13/13 [==============================] - 0s 2ms/step - loss: 0.3377 - accuracy: 0.8639\n",
            "Epoch 5/100\n",
            "13/13 [==============================] - 0s 2ms/step - loss: 0.3376 - accuracy: 0.8639\n",
            "Epoch 6/100\n",
            "13/13 [==============================] - 0s 2ms/step - loss: 0.3375 - accuracy: 0.8639\n",
            "Epoch 7/100\n",
            "13/13 [==============================] - 0s 2ms/step - loss: 0.3376 - accuracy: 0.8639\n",
            "Epoch 8/100\n",
            "13/13 [==============================] - 0s 2ms/step - loss: 0.3374 - accuracy: 0.8627\n",
            "Epoch 9/100\n",
            "13/13 [==============================] - 0s 2ms/step - loss: 0.3375 - accuracy: 0.8627\n",
            "Epoch 10/100\n",
            "13/13 [==============================] - 0s 2ms/step - loss: 0.3374 - accuracy: 0.8627\n",
            "Epoch 11/100\n",
            "13/13 [==============================] - 0s 2ms/step - loss: 0.3373 - accuracy: 0.8627\n",
            "Epoch 12/100\n",
            "13/13 [==============================] - 0s 2ms/step - loss: 0.3372 - accuracy: 0.8627\n",
            "Epoch 13/100\n",
            "13/13 [==============================] - 0s 2ms/step - loss: 0.3373 - accuracy: 0.8627\n",
            "Epoch 14/100\n",
            "13/13 [==============================] - 0s 2ms/step - loss: 0.3372 - accuracy: 0.8627\n",
            "Epoch 15/100\n",
            "13/13 [==============================] - 0s 2ms/step - loss: 0.3373 - accuracy: 0.8627\n",
            "Epoch 16/100\n",
            "13/13 [==============================] - 0s 2ms/step - loss: 0.3371 - accuracy: 0.8627\n",
            "Epoch 17/100\n",
            "13/13 [==============================] - 0s 3ms/step - loss: 0.3371 - accuracy: 0.8627\n",
            "Epoch 18/100\n",
            "13/13 [==============================] - 0s 2ms/step - loss: 0.3371 - accuracy: 0.8627\n",
            "Epoch 19/100\n",
            "13/13 [==============================] - 0s 2ms/step - loss: 0.3371 - accuracy: 0.8627\n",
            "Epoch 20/100\n",
            "13/13 [==============================] - 0s 2ms/step - loss: 0.3370 - accuracy: 0.8627\n",
            "Epoch 21/100\n",
            "13/13 [==============================] - 0s 2ms/step - loss: 0.3370 - accuracy: 0.8627\n",
            "Epoch 22/100\n",
            "13/13 [==============================] - 0s 2ms/step - loss: 0.3369 - accuracy: 0.8627\n",
            "Epoch 23/100\n",
            "13/13 [==============================] - 0s 2ms/step - loss: 0.3369 - accuracy: 0.8627\n",
            "Epoch 24/100\n",
            "13/13 [==============================] - 0s 2ms/step - loss: 0.3369 - accuracy: 0.8627\n",
            "Epoch 25/100\n",
            "13/13 [==============================] - 0s 2ms/step - loss: 0.3370 - accuracy: 0.8627\n",
            "Epoch 26/100\n",
            "13/13 [==============================] - 0s 2ms/step - loss: 0.3369 - accuracy: 0.8627\n",
            "Epoch 27/100\n",
            "13/13 [==============================] - 0s 2ms/step - loss: 0.3369 - accuracy: 0.8627\n",
            "Epoch 28/100\n",
            "13/13 [==============================] - 0s 2ms/step - loss: 0.3369 - accuracy: 0.8614\n",
            "Epoch 29/100\n",
            "13/13 [==============================] - 0s 2ms/step - loss: 0.3369 - accuracy: 0.8627\n",
            "Epoch 30/100\n",
            "13/13 [==============================] - 0s 2ms/step - loss: 0.3369 - accuracy: 0.8627\n",
            "Epoch 31/100\n",
            "13/13 [==============================] - 0s 2ms/step - loss: 0.3368 - accuracy: 0.8627\n",
            "Epoch 32/100\n",
            "13/13 [==============================] - 0s 2ms/step - loss: 0.3368 - accuracy: 0.8627\n",
            "Epoch 33/100\n",
            "13/13 [==============================] - 0s 3ms/step - loss: 0.3368 - accuracy: 0.8627\n",
            "Epoch 34/100\n",
            "13/13 [==============================] - 0s 2ms/step - loss: 0.3368 - accuracy: 0.8627\n",
            "Epoch 35/100\n",
            "13/13 [==============================] - 0s 2ms/step - loss: 0.3368 - accuracy: 0.8627\n",
            "Epoch 36/100\n",
            "13/13 [==============================] - 0s 2ms/step - loss: 0.3368 - accuracy: 0.8627\n",
            "Epoch 37/100\n",
            "13/13 [==============================] - 0s 2ms/step - loss: 0.3368 - accuracy: 0.8614\n",
            "Epoch 38/100\n",
            "13/13 [==============================] - 0s 2ms/step - loss: 0.3367 - accuracy: 0.8614\n",
            "Epoch 39/100\n",
            "13/13 [==============================] - 0s 2ms/step - loss: 0.3368 - accuracy: 0.8614\n",
            "Epoch 40/100\n",
            "13/13 [==============================] - 0s 2ms/step - loss: 0.3368 - accuracy: 0.8614\n",
            "Epoch 41/100\n",
            "13/13 [==============================] - 0s 2ms/step - loss: 0.3368 - accuracy: 0.8614\n",
            "Epoch 42/100\n",
            "13/13 [==============================] - 0s 2ms/step - loss: 0.3368 - accuracy: 0.8614\n",
            "Epoch 43/100\n",
            "13/13 [==============================] - 0s 2ms/step - loss: 0.3367 - accuracy: 0.8614\n",
            "Epoch 44/100\n",
            "13/13 [==============================] - 0s 2ms/step - loss: 0.3367 - accuracy: 0.8614\n",
            "Epoch 45/100\n",
            "13/13 [==============================] - 0s 2ms/step - loss: 0.3367 - accuracy: 0.8614\n",
            "Epoch 46/100\n",
            "13/13 [==============================] - 0s 2ms/step - loss: 0.3367 - accuracy: 0.8614\n",
            "Epoch 47/100\n",
            "13/13 [==============================] - 0s 2ms/step - loss: 0.3367 - accuracy: 0.8614\n",
            "Epoch 48/100\n",
            "13/13 [==============================] - 0s 2ms/step - loss: 0.3367 - accuracy: 0.8614\n",
            "Epoch 49/100\n",
            "13/13 [==============================] - 0s 2ms/step - loss: 0.3367 - accuracy: 0.8614\n",
            "Epoch 50/100\n",
            "13/13 [==============================] - 0s 2ms/step - loss: 0.3367 - accuracy: 0.8602\n",
            "Epoch 51/100\n",
            "13/13 [==============================] - 0s 2ms/step - loss: 0.3366 - accuracy: 0.8602\n",
            "Epoch 52/100\n",
            "13/13 [==============================] - 0s 2ms/step - loss: 0.3367 - accuracy: 0.8602\n",
            "Epoch 53/100\n",
            "13/13 [==============================] - 0s 2ms/step - loss: 0.3367 - accuracy: 0.8602\n",
            "Epoch 54/100\n",
            "13/13 [==============================] - 0s 2ms/step - loss: 0.3366 - accuracy: 0.8602\n",
            "Epoch 55/100\n",
            "13/13 [==============================] - 0s 2ms/step - loss: 0.3367 - accuracy: 0.8602\n",
            "Epoch 56/100\n",
            "13/13 [==============================] - 0s 2ms/step - loss: 0.3367 - accuracy: 0.8602\n",
            "Epoch 57/100\n",
            "13/13 [==============================] - 0s 2ms/step - loss: 0.3366 - accuracy: 0.8602\n",
            "Epoch 58/100\n",
            "13/13 [==============================] - 0s 2ms/step - loss: 0.3366 - accuracy: 0.8602\n",
            "Epoch 59/100\n",
            "13/13 [==============================] - 0s 2ms/step - loss: 0.3366 - accuracy: 0.8602\n",
            "Epoch 60/100\n",
            "13/13 [==============================] - 0s 2ms/step - loss: 0.3367 - accuracy: 0.8602\n",
            "Epoch 61/100\n",
            "13/13 [==============================] - 0s 2ms/step - loss: 0.3366 - accuracy: 0.8602\n",
            "Epoch 62/100\n",
            "13/13 [==============================] - 0s 2ms/step - loss: 0.3366 - accuracy: 0.8602\n",
            "Epoch 63/100\n",
            "13/13 [==============================] - 0s 2ms/step - loss: 0.3367 - accuracy: 0.8602\n",
            "Epoch 64/100\n",
            "13/13 [==============================] - 0s 2ms/step - loss: 0.3366 - accuracy: 0.8602\n",
            "Epoch 65/100\n",
            "13/13 [==============================] - 0s 2ms/step - loss: 0.3367 - accuracy: 0.8602\n",
            "Epoch 66/100\n",
            "13/13 [==============================] - 0s 2ms/step - loss: 0.3366 - accuracy: 0.8602\n",
            "Epoch 67/100\n",
            "13/13 [==============================] - 0s 3ms/step - loss: 0.3366 - accuracy: 0.8602\n",
            "Epoch 68/100\n",
            "13/13 [==============================] - 0s 2ms/step - loss: 0.3366 - accuracy: 0.8602\n",
            "Epoch 69/100\n",
            "13/13 [==============================] - 0s 2ms/step - loss: 0.3366 - accuracy: 0.8602\n",
            "Epoch 70/100\n",
            "13/13 [==============================] - 0s 2ms/step - loss: 0.3366 - accuracy: 0.8602\n",
            "Epoch 71/100\n",
            "13/13 [==============================] - 0s 2ms/step - loss: 0.3366 - accuracy: 0.8602\n",
            "Epoch 72/100\n",
            "13/13 [==============================] - 0s 2ms/step - loss: 0.3367 - accuracy: 0.8602\n",
            "Epoch 73/100\n",
            "13/13 [==============================] - 0s 2ms/step - loss: 0.3366 - accuracy: 0.8602\n",
            "Epoch 74/100\n",
            "13/13 [==============================] - 0s 2ms/step - loss: 0.3366 - accuracy: 0.8602\n",
            "Epoch 75/100\n",
            "13/13 [==============================] - 0s 2ms/step - loss: 0.3366 - accuracy: 0.8602\n",
            "Epoch 76/100\n",
            "13/13 [==============================] - 0s 2ms/step - loss: 0.3366 - accuracy: 0.8602\n",
            "Epoch 77/100\n",
            "13/13 [==============================] - 0s 2ms/step - loss: 0.3366 - accuracy: 0.8602\n",
            "Epoch 78/100\n",
            "13/13 [==============================] - 0s 2ms/step - loss: 0.3366 - accuracy: 0.8602\n",
            "Epoch 79/100\n",
            "13/13 [==============================] - 0s 2ms/step - loss: 0.3366 - accuracy: 0.8602\n",
            "Epoch 80/100\n",
            "13/13 [==============================] - 0s 2ms/step - loss: 0.3366 - accuracy: 0.8614\n",
            "Epoch 81/100\n",
            "13/13 [==============================] - 0s 2ms/step - loss: 0.3366 - accuracy: 0.8614\n",
            "Epoch 82/100\n",
            "13/13 [==============================] - 0s 2ms/step - loss: 0.3366 - accuracy: 0.8602\n",
            "Epoch 83/100\n",
            "13/13 [==============================] - 0s 2ms/step - loss: 0.3366 - accuracy: 0.8614\n",
            "Epoch 84/100\n",
            "13/13 [==============================] - 0s 2ms/step - loss: 0.3366 - accuracy: 0.8614\n",
            "Epoch 85/100\n",
            "13/13 [==============================] - 0s 2ms/step - loss: 0.3366 - accuracy: 0.8614\n",
            "Epoch 86/100\n",
            "13/13 [==============================] - 0s 2ms/step - loss: 0.3366 - accuracy: 0.8614\n",
            "Epoch 87/100\n",
            "13/13 [==============================] - 0s 2ms/step - loss: 0.3366 - accuracy: 0.8614\n",
            "Epoch 88/100\n",
            "13/13 [==============================] - 0s 2ms/step - loss: 0.3366 - accuracy: 0.8614\n",
            "Epoch 89/100\n",
            "13/13 [==============================] - 0s 2ms/step - loss: 0.3366 - accuracy: 0.8614\n",
            "Epoch 90/100\n",
            "13/13 [==============================] - 0s 2ms/step - loss: 0.3366 - accuracy: 0.8614\n",
            "Epoch 91/100\n",
            "13/13 [==============================] - 0s 2ms/step - loss: 0.3366 - accuracy: 0.8614\n",
            "Epoch 92/100\n",
            "13/13 [==============================] - 0s 2ms/step - loss: 0.3366 - accuracy: 0.8602\n",
            "Epoch 93/100\n",
            "13/13 [==============================] - 0s 2ms/step - loss: 0.3366 - accuracy: 0.8602\n",
            "Epoch 94/100\n",
            "13/13 [==============================] - 0s 2ms/step - loss: 0.3366 - accuracy: 0.8602\n",
            "Epoch 95/100\n",
            "13/13 [==============================] - 0s 2ms/step - loss: 0.3366 - accuracy: 0.8602\n",
            "Epoch 96/100\n",
            "13/13 [==============================] - 0s 2ms/step - loss: 0.3366 - accuracy: 0.8589\n",
            "Epoch 97/100\n",
            "13/13 [==============================] - 0s 2ms/step - loss: 0.3366 - accuracy: 0.8602\n",
            "Epoch 98/100\n",
            "13/13 [==============================] - 0s 2ms/step - loss: 0.3366 - accuracy: 0.8589\n",
            "Epoch 99/100\n",
            "13/13 [==============================] - 0s 2ms/step - loss: 0.3367 - accuracy: 0.8589\n",
            "Epoch 100/100\n",
            "13/13 [==============================] - 0s 2ms/step - loss: 0.3365 - accuracy: 0.8614\n"
          ]
        },
        {
          "output_type": "execute_result",
          "data": {
            "text/plain": [
              "<keras.callbacks.History at 0x7ff34accfb10>"
            ]
          },
          "metadata": {},
          "execution_count": 48
        }
      ]
    }
  ]
}